{
 "cells": [
  {
   "cell_type": "markdown",
   "id": "062c52d9-f035-4fbb-8649-5422801882e2",
   "metadata": {},
   "source": [
    "# Gunter's Space Page GSP Scraper"
   ]
  },
  {
   "cell_type": "code",
   "execution_count": 1,
   "id": "77cbae16-4bb5-459b-9da8-215383974643",
   "metadata": {
    "tags": []
   },
   "outputs": [],
   "source": [
    "import bs4\n",
    "import requests\n",
    "import pandas as pd\n",
    "import os"
   ]
  },
  {
   "cell_type": "code",
   "execution_count": 4,
   "id": "f1871ea1-aa88-43f7-8a01-3efb35d5c857",
   "metadata": {
    "tags": []
   },
   "outputs": [],
   "source": [
    "#url = \"https://space.skyrocket.de/doc_sdat/globalstar.htm\"\n",
    "oneweblist = [\n",
    "    \"https://space.skyrocket.de/doc_sdat/oneweb.htm\"\n",
    "]\n",
    "\n",
    "starlinklist = [\n",
    "    \"https://space.skyrocket.de/doc_sdat/starlink-v0-9.htm\",\n",
    "    \"https://space.skyrocket.de/doc_sdat/starlink-v1-0.htm\",\n",
    "    \"https://space.skyrocket.de/doc_sdat/starlink-v1-5.htm\",\n",
    "    \"https://space.skyrocket.de/doc_sdat/starlink-v2-mini.htm\"\n",
    "]\n",
    "\n",
    "globalstarlist = [\n",
    "    \"https://space.skyrocket.de/doc_sdat/globalstar.htm\",\n",
    "    \"https://space.skyrocket.de/doc_sdat/globalstar-2.htm\"\n",
    "]\n",
    "\n",
    "iridiumlist = [\n",
    "    \"https://space.skyrocket.de/doc_sdat/iridium.htm\",\n",
    "    \"https://space.skyrocket.de/doc_sdat/iridium-next.htm\"\n",
    "]\n",
    "\n",
    "orbcommlist = [\n",
    "    \"https://space.skyrocket.de/doc_sdat/orbcomm.htm\",\n",
    "    \"https://space.skyrocket.de/doc_sdat/orbcomm-ql.htm\",\n",
    "    \"https://space.skyrocket.de/doc_sdat/orbcomm-2.htm\"\n",
    "]\n",
    "\n",
    "swarmlist = [\n",
    "    \"https://space.skyrocket.de/doc_sdat/spacebee.htm\",\n",
    "    \"https://space.skyrocket.de/doc_sdat/spacebee-5.htm\",\n",
    "    \"https://space.skyrocket.de/doc_sdat/spacebee-10.htm\"\n",
    "]\n",
    "\n",
    "urllist = starlinklist"
   ]
  },
  {
   "cell_type": "code",
   "execution_count": 5,
   "id": "8be53fdf-9937-44b1-8fe5-8002a4c71136",
   "metadata": {
    "tags": []
   },
   "outputs": [],
   "source": [
    "def scrape_url(url):\n",
    "    response = requests.get(url)\n",
    "    soup = bs4.BeautifulSoup(response.text)\n",
    "\n",
    "    satdata = soup.find(\"table\", {\"id\": \"satdata\"})\n",
    "    satlist = soup.find(\"table\", {\"id\": \"satlist\"})\n",
    "\n",
    "    def parse_row(trrow):\n",
    "        tdlist = trrow.find_all(\"td\")\n",
    "        namelist = [td.text for td in tdlist]\n",
    "        return namelist\n",
    "\n",
    "    satlist_dict = {\n",
    "        \"Satellite\": [],\n",
    "        \"COSPAR\": [],\n",
    "        \"Date\": [],\n",
    "        \"LS\": [],\n",
    "        \"Failed\": [],\n",
    "        \"Launche Vehicle\": [],\n",
    "        \"Remarks\": []\n",
    "    }\n",
    "\n",
    "    for trrow in satlist.find_all(\"tr\")[1:]:\n",
    "        #if\n",
    "        namelist = parse_row(trrow)\n",
    "        datestr = namelist[2].lower()\n",
    "        if(datestr == \"cancelled\" or datestr == \"2023\" or datestr == \"not launched\"):\n",
    "            continue\n",
    "        try:\n",
    "            date = pd.to_datetime(datestr, format=\"%d.%m.%Y\")\n",
    "        except:\n",
    "            continue\n",
    "        satlist_dict[\"Satellite\"].append(namelist[0])\n",
    "        satlist_dict[\"COSPAR\"].append(namelist[1])\n",
    "        satlist_dict[\"Date\"].append(date)\n",
    "        satlist_dict[\"LS\"].append(namelist[3])\n",
    "        satlist_dict[\"Failed\"].append(namelist[4])\n",
    "        satlist_dict[\"Launche Vehicle\"].append(namelist[5])\n",
    "        satlist_dict[\"Remarks\"].append(namelist[6])\n",
    "\n",
    "    df = pd.DataFrame(satlist_dict)\n",
    "    return df\n",
    "\n",
    "dflist = [scrape_url(url) for url in urllist]\n",
    "df = pd.concat(dflist)"
   ]
  },
  {
   "cell_type": "code",
   "execution_count": 6,
   "id": "434a948b-2cc0-4257-bea8-cf78e08fcc84",
   "metadata": {
    "tags": []
   },
   "outputs": [
    {
     "name": "stdout",
     "output_type": "stream",
     "text": [
      "Count 79\n",
      "DatetimeIndex(['2019-05-24', '2019-11-11', '2020-01-07', '2020-01-29',\n",
      "               '2020-02-17', '2020-03-18', '2020-04-22', '2020-06-04',\n",
      "               '2020-06-13', '2020-08-07', '2020-08-18', '2020-09-03',\n",
      "               '2020-10-06', '2020-10-18', '2020-10-24', '2020-11-24',\n",
      "               '2021-01-20', '2021-01-24', '2021-02-04', '2021-02-16',\n",
      "               '2021-03-04', '2021-03-11', '2021-03-14', '2021-03-24',\n",
      "               '2021-04-07', '2021-04-29', '2021-05-04', '2021-05-09',\n",
      "               '2021-05-15', '2021-05-26', '2021-06-30', '2021-09-14',\n",
      "               '2021-11-13', '2021-12-02', '2021-12-18', '2022-01-06',\n",
      "               '2022-01-19', '2022-02-03', '2022-02-21', '2022-02-25',\n",
      "               '2022-03-03', '2022-03-09', '2022-03-19', '2022-04-21',\n",
      "               '2022-04-29', '2022-05-06', '2022-05-13', '2022-05-14',\n",
      "               '2022-05-18', '2022-06-17', '2022-07-07', '2022-07-11',\n",
      "               '2022-07-17', '2022-07-22', '2022-07-24', '2022-08-10',\n",
      "               '2022-08-12', '2022-08-19', '2022-08-28', '2022-08-31',\n",
      "               '2022-09-05', '2022-09-11', '2022-09-19', '2022-09-24',\n",
      "               '2022-10-05', '2022-10-20', '2022-10-28', '2022-12-17',\n",
      "               '2022-12-28', '2023-01-19', '2023-01-26', '2023-01-31',\n",
      "               '2023-02-02', '2023-02-12', '2023-02-17', '2023-02-27',\n",
      "               '2023-03-03', '2023-03-17', '2023-03-24'],\n",
      "              dtype='datetime64[ns]', name='Date', freq=None)\n"
     ]
    }
   ],
   "source": [
    "# Checking launchdates\n",
    "print(\"Count\", len(df.groupby(by=\"Date\").count()))\n",
    "print(df.groupby(by=\"Date\").count().index)"
   ]
  }
 ],
 "metadata": {
  "kernelspec": {
   "display_name": "Python 3 (ipykernel)",
   "language": "python",
   "name": "python3"
  },
  "language_info": {
   "codemirror_mode": {
    "name": "ipython",
    "version": 3
   },
   "file_extension": ".py",
   "mimetype": "text/x-python",
   "name": "python",
   "nbconvert_exporter": "python",
   "pygments_lexer": "ipython3",
   "version": "3.10.6"
  }
 },
 "nbformat": 4,
 "nbformat_minor": 5
}
