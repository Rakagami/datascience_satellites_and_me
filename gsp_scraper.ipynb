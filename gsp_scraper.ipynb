{
 "cells": [
  {
   "cell_type": "markdown",
   "id": "062c52d9-f035-4fbb-8649-5422801882e2",
   "metadata": {},
   "source": [
    "# Gunter's Space Page GSP Scraper"
   ]
  },
  {
   "cell_type": "code",
   "execution_count": 92,
   "id": "77cbae16-4bb5-459b-9da8-215383974643",
   "metadata": {},
   "outputs": [],
   "source": [
    "import bs4\n",
    "import requests\n",
    "import pandas as pd\n",
    "import os"
   ]
  },
  {
   "cell_type": "code",
   "execution_count": 165,
   "id": "f1871ea1-aa88-43f7-8a01-3efb35d5c857",
   "metadata": {},
   "outputs": [],
   "source": [
    "#url = \"https://space.skyrocket.de/doc_sdat/globalstar.htm\"\n",
    "oneweblist = [\n",
    "    \"https://space.skyrocket.de/doc_sdat/oneweb.htm\"\n",
    "]\n",
    "\n",
    "starlinklist = [\n",
    "    \"https://space.skyrocket.de/doc_sdat/starlink-v0-9.htm\",\n",
    "    \"https://space.skyrocket.de/doc_sdat/starlink-v1-0.htm\",\n",
    "    \"https://space.skyrocket.de/doc_sdat/starlink-v1-5.htm\"\n",
    "]\n",
    "\n",
    "globalstarlist = [\n",
    "    \"https://space.skyrocket.de/doc_sdat/globalstar.htm\",\n",
    "    \"https://space.skyrocket.de/doc_sdat/globalstar-2.htm\"\n",
    "]\n",
    "\n",
    "iridiumlist = [\n",
    "    \"https://space.skyrocket.de/doc_sdat/iridium.htm\",\n",
    "    \"https://space.skyrocket.de/doc_sdat/iridium-next.htm\"\n",
    "]\n",
    "\n",
    "orbcommlist = [\n",
    "    \"https://space.skyrocket.de/doc_sdat/orbcomm.htm\",\n",
    "    \"https://space.skyrocket.de/doc_sdat/orbcomm-ql.htm\",\n",
    "    \"https://space.skyrocket.de/doc_sdat/orbcomm-2.htm\"\n",
    "]\n",
    "\n",
    "swarmlist = [\n",
    "    \"https://space.skyrocket.de/doc_sdat/spacebee.htm\",\n",
    "    \"https://space.skyrocket.de/doc_sdat/spacebee-5.htm\",\n",
    "    \"https://space.skyrocket.de/doc_sdat/spacebee-10.htm\"\n",
    "]\n",
    "\n",
    "urllist = oneweblist"
   ]
  },
  {
   "cell_type": "code",
   "execution_count": 166,
   "id": "8be53fdf-9937-44b1-8fe5-8002a4c71136",
   "metadata": {},
   "outputs": [],
   "source": [
    "def scrape_url(url):\n",
    "    response = requests.get(url)\n",
    "    soup = bs4.BeautifulSoup(response.text)\n",
    "\n",
    "    satdata = soup.find(\"table\", {\"id\": \"satdata\"})\n",
    "    satlist = soup.find(\"table\", {\"id\": \"satlist\"})\n",
    "\n",
    "    def parse_row(trrow):\n",
    "        tdlist = trrow.find_all(\"td\")\n",
    "        namelist = [td.text for td in tdlist]\n",
    "        return namelist\n",
    "\n",
    "    satlist_dict = {\n",
    "        \"Satellite\": [],\n",
    "        \"COSPAR\": [],\n",
    "        \"Date\": [],\n",
    "        \"LS\": [],\n",
    "        \"Failed\": [],\n",
    "        \"Launche Vehicle\": [],\n",
    "        \"Remarks\": []\n",
    "    }\n",
    "\n",
    "    for trrow in satlist.find_all(\"tr\")[1:]:\n",
    "        #if\n",
    "        namelist = parse_row(trrow)\n",
    "        datestr = namelist[2].lower()\n",
    "        if(datestr == \"cancelled\" or datestr == \"2023\" or datestr == \"not launched\"):\n",
    "            continue\n",
    "        try:\n",
    "            date = pd.to_datetime(datestr, format=\"%d.%m.%Y\")\n",
    "        except:\n",
    "            continue\n",
    "        satlist_dict[\"Satellite\"].append(namelist[0])\n",
    "        satlist_dict[\"COSPAR\"].append(namelist[1])\n",
    "        satlist_dict[\"Date\"].append(date)\n",
    "        satlist_dict[\"LS\"].append(namelist[3])\n",
    "        satlist_dict[\"Failed\"].append(namelist[4])\n",
    "        satlist_dict[\"Launche Vehicle\"].append(namelist[5])\n",
    "        satlist_dict[\"Remarks\"].append(namelist[6])\n",
    "\n",
    "    df = pd.DataFrame(satlist_dict)\n",
    "    return df\n",
    "\n",
    "dflist = [scrape_url(url) for url in urllist]\n",
    "df = pd.concat(dflist)"
   ]
  },
  {
   "cell_type": "code",
   "execution_count": 167,
   "id": "434a948b-2cc0-4257-bea8-cf78e08fcc84",
   "metadata": {},
   "outputs": [
    {
     "name": "stdout",
     "output_type": "stream",
     "text": [
      "Count 16\n",
      "DatetimeIndex(['2019-02-27', '2020-02-06', '2020-03-21', '2020-12-18',\n",
      "               '2021-03-25', '2021-04-25', '2021-05-28', '2021-07-01',\n",
      "               '2021-08-21', '2021-09-14', '2021-10-14', '2021-12-27',\n",
      "               '2022-02-10', '2022-10-22', '2022-12-08', '2023-01-10'],\n",
      "              dtype='datetime64[ns]', name='Date', freq=None)\n"
     ]
    }
   ],
   "source": [
    "print(\"Count\", len(df.groupby(by=\"Date\").count()))\n",
    "print(df.groupby(by=\"Date\").count().index)"
   ]
  },
  {
   "cell_type": "code",
   "execution_count": 168,
   "id": "523ac556-35dc-4c42-af4f-d5f9add77cdf",
   "metadata": {},
   "outputs": [
    {
     "data": {
      "text/plain": [
       "544"
      ]
     },
     "execution_count": 168,
     "metadata": {},
     "output_type": "execute_result"
    }
   ],
   "source": [
    "len(df)"
   ]
  },
  {
   "cell_type": "code",
   "execution_count": 58,
   "id": "f33453fe-0fb9-4be4-bf0d-61e89e985f89",
   "metadata": {},
   "outputs": [],
   "source": [
    "#df.to_csv(\"parsed_gsp/{}.csv\".format(\"globalstar\"))"
   ]
  },
  {
   "cell_type": "code",
   "execution_count": 54,
   "id": "1a8541e9-2b78-476a-b6af-a4fcf3b71971",
   "metadata": {},
   "outputs": [],
   "source": [
    "#df.to_csv(\"parsed_gsp/{}.csv\".format(url.split(\"/\")[-1]))"
   ]
  },
  {
   "cell_type": "code",
   "execution_count": null,
   "id": "bdbd8531-7c26-4ded-ae2d-7bce58429eee",
   "metadata": {},
   "outputs": [],
   "source": []
  }
 ],
 "metadata": {
  "kernelspec": {
   "display_name": "Python 3 (ipykernel)",
   "language": "python",
   "name": "python3"
  },
  "language_info": {
   "codemirror_mode": {
    "name": "ipython",
    "version": 3
   },
   "file_extension": ".py",
   "mimetype": "text/x-python",
   "name": "python",
   "nbconvert_exporter": "python",
   "pygments_lexer": "ipython3",
   "version": "3.10.9"
  }
 },
 "nbformat": 4,
 "nbformat_minor": 5
}
