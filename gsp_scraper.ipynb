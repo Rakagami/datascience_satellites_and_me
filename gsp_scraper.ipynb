{
 "cells": [
  {
   "cell_type": "markdown",
   "id": "062c52d9-f035-4fbb-8649-5422801882e2",
   "metadata": {},
   "source": [
    "# Gunter's Space Page GSP Scraper"
   ]
  },
  {
   "cell_type": "code",
   "execution_count": 7,
   "id": "77cbae16-4bb5-459b-9da8-215383974643",
   "metadata": {
    "tags": []
   },
   "outputs": [],
   "source": [
    "import bs4\n",
    "import requests\n",
    "import pandas as pd\n",
    "import os"
   ]
  },
  {
   "cell_type": "code",
   "execution_count": 12,
   "id": "f1871ea1-aa88-43f7-8a01-3efb35d5c857",
   "metadata": {
    "tags": []
   },
   "outputs": [],
   "source": [
    "#url = \"https://space.skyrocket.de/doc_sdat/globalstar.htm\"\n",
    "oneweblist = [\n",
    "    \"https://space.skyrocket.de/doc_sdat/oneweb.htm\"\n",
    "]\n",
    "\n",
    "starlinklist = [\n",
    "    \"https://space.skyrocket.de/doc_sdat/starlink-v0-9.htm\",\n",
    "    \"https://space.skyrocket.de/doc_sdat/starlink-v1-0.htm\",\n",
    "    \"https://space.skyrocket.de/doc_sdat/starlink-v1-5.htm\",\n",
    "    \"https://space.skyrocket.de/doc_sdat/starlink-v2-mini.htm\"\n",
    "]\n",
    "\n",
    "globalstarlist = [\n",
    "    \"https://space.skyrocket.de/doc_sdat/globalstar.htm\",\n",
    "    \"https://space.skyrocket.de/doc_sdat/globalstar-2.htm\"\n",
    "]\n",
    "\n",
    "iridiumlist = [\n",
    "    \"https://space.skyrocket.de/doc_sdat/iridium.htm\",\n",
    "    \"https://space.skyrocket.de/doc_sdat/iridium-next.htm\"\n",
    "]\n",
    "\n",
    "orbcommlist = [\n",
    "    \"https://space.skyrocket.de/doc_sdat/orbcomm.htm\",\n",
    "    \"https://space.skyrocket.de/doc_sdat/orbcomm-ql.htm\",\n",
    "    \"https://space.skyrocket.de/doc_sdat/orbcomm-2.htm\"\n",
    "]\n",
    "\n",
    "swarmlist = [\n",
    "    \"https://space.skyrocket.de/doc_sdat/spacebee.htm\",\n",
    "    \"https://space.skyrocket.de/doc_sdat/spacebee-5.htm\",\n",
    "    \"https://space.skyrocket.de/doc_sdat/spacebee-10.htm\"\n",
    "]"
   ]
  },
  {
   "cell_type": "code",
   "execution_count": 15,
   "id": "8be53fdf-9937-44b1-8fe5-8002a4c71136",
   "metadata": {
    "tags": []
   },
   "outputs": [],
   "source": [
    "def scrape_url(url):\n",
    "    \"\"\"\n",
    "    \n",
    "    \"\"\"\n",
    "    response = requests.get(url)\n",
    "    soup = bs4.BeautifulSoup(response.text)\n",
    "\n",
    "    satdata = soup.find(\"table\", {\"id\": \"satdata\"})\n",
    "    satlist = soup.find(\"table\", {\"id\": \"satlist\"})\n",
    "\n",
    "    def parse_row(trrow):\n",
    "        tdlist = trrow.find_all(\"td\")\n",
    "        namelist = [td.text for td in tdlist]\n",
    "        return namelist\n",
    "\n",
    "    satlist_dict = {\n",
    "        \"Satellite\": [],\n",
    "        \"COSPAR\": [],\n",
    "        \"Date\": [],\n",
    "        \"LS\": [],\n",
    "        \"Failed\": [],\n",
    "        \"Launche Vehicle\": [],\n",
    "        \"Remarks\": []\n",
    "    }\n",
    "\n",
    "    for trrow in satlist.find_all(\"tr\")[1:]:\n",
    "        #if\n",
    "        namelist = parse_row(trrow)\n",
    "        datestr = namelist[2].lower()\n",
    "        if(datestr == \"cancelled\" or datestr == \"2023\" or datestr == \"not launched\"):\n",
    "            continue\n",
    "        try:\n",
    "            date = pd.to_datetime(datestr, format=\"%d.%m.%Y\")\n",
    "        except:\n",
    "            continue\n",
    "        satlist_dict[\"Satellite\"].append(namelist[0])\n",
    "        satlist_dict[\"COSPAR\"].append(namelist[1])\n",
    "        satlist_dict[\"Date\"].append(date)\n",
    "        satlist_dict[\"LS\"].append(namelist[3])\n",
    "        satlist_dict[\"Failed\"].append(namelist[4])\n",
    "        satlist_dict[\"Launche Vehicle\"].append(namelist[5])\n",
    "        satlist_dict[\"Remarks\"].append(namelist[6])\n",
    "\n",
    "    df = pd.DataFrame(satlist_dict)\n",
    "    return df\n",
    "\n",
    "def scrape_urllist(urllist):\n",
    "    \"\"\"\n",
    "    Takes a list of Gunter's Space Page urls to scrape from\n",
    "    \n",
    "    Returns dataframe of all the satellites found\n",
    "    \"\"\"\n",
    "    dflist = [scrape_url(url) for url in starlinklist]\n",
    "    return pd.concat(dflist)"
   ]
  },
  {
   "cell_type": "markdown",
   "id": "77bb2459-2ec2-457b-8677-f9ac61cfb4e3",
   "metadata": {},
   "source": [
    "## Starlink Specific Stuff"
   ]
  },
  {
   "cell_type": "code",
   "execution_count": 16,
   "id": "b332d229-15fe-4d38-b79d-a528ff8c2c76",
   "metadata": {
    "tags": []
   },
   "outputs": [],
   "source": [
    "df = scrape_urllist(starlinklist)\n",
    "df[\"Revision\"] = df[\"Satellite\"].apply(lambda sat: sat.split(\" \")[1])"
   ]
  },
  {
   "cell_type": "code",
   "execution_count": 52,
   "id": "e95a0b7c-592c-4afb-8927-f88b73d3a465",
   "metadata": {
    "tags": []
   },
   "outputs": [],
   "source": [
    "launch_dates_df = pd.DataFrame(list(set([rd for rd in zip(df[\"Revision\"], df[\"Date\"])])))\n",
    "launch_dates_df.to_csv(\"data/starlink_launchdates.csv\")"
   ]
  }
 ],
 "metadata": {
  "kernelspec": {
   "display_name": "Python 3 (ipykernel)",
   "language": "python",
   "name": "python3"
  },
  "language_info": {
   "codemirror_mode": {
    "name": "ipython",
    "version": 3
   },
   "file_extension": ".py",
   "mimetype": "text/x-python",
   "name": "python",
   "nbconvert_exporter": "python",
   "pygments_lexer": "ipython3",
   "version": "3.10.6"
  }
 },
 "nbformat": 4,
 "nbformat_minor": 5
}
