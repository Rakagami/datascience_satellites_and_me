{
 "cells": [
  {
   "cell_type": "code",
   "execution_count": 1,
   "id": "4d39d36b-368c-4b6a-9440-7253d3337d33",
   "metadata": {
    "tags": []
   },
   "outputs": [],
   "source": [
    "import geopandas\n",
    "from matplotlib import colors\n",
    "import matplotlib.pyplot as plt\n",
    "from descartes import PolygonPatch\n",
    "import geohash\n",
    "import numpy as np\n",
    "import cartopy.crs as ccrs\n",
    "import pandas as pd"
   ]
  },
  {
   "cell_type": "markdown",
   "id": "1ef89195-bf5f-4a8a-98a8-fbc34d69af12",
   "metadata": {},
   "source": [
    "## Parse / Scraping map data"
   ]
  },
  {
   "cell_type": "code",
   "execution_count": 111,
   "id": "db067401-4b79-4440-8a6c-e3f5d1f9fa0a",
   "metadata": {
    "tags": []
   },
   "outputs": [],
   "source": [
    "from tqdm import tqdm\n",
    "import requests\n",
    "from bs4 import BeautifulSoup"
   ]
  },
  {
   "cell_type": "code",
   "execution_count": 119,
   "id": "a5fd4300-0bd0-4bd1-874c-f659895e1326",
   "metadata": {
    "tags": []
   },
   "outputs": [
    {
     "name": "stdout",
     "output_type": "stream",
     "text": [
      "Parse page: 1\n"
     ]
    },
    {
     "name": "stderr",
     "output_type": "stream",
     "text": [
      "100%|█████████████████████████████████████████████████████████████████████████████████| 20/20 [00:10<00:00,  1.86it/s]\n"
     ]
    },
    {
     "name": "stdout",
     "output_type": "stream",
     "text": [
      "Parse page: 2\n"
     ]
    },
    {
     "name": "stderr",
     "output_type": "stream",
     "text": [
      "100%|█████████████████████████████████████████████████████████████████████████████████| 20/20 [00:07<00:00,  2.50it/s]\n"
     ]
    },
    {
     "name": "stdout",
     "output_type": "stream",
     "text": [
      "Parse page: 3\n"
     ]
    },
    {
     "name": "stderr",
     "output_type": "stream",
     "text": [
      "100%|█████████████████████████████████████████████████████████████████████████████████| 20/20 [00:08<00:00,  2.49it/s]\n"
     ]
    },
    {
     "name": "stdout",
     "output_type": "stream",
     "text": [
      "Parse page: 4\n"
     ]
    },
    {
     "name": "stderr",
     "output_type": "stream",
     "text": [
      "100%|█████████████████████████████████████████████████████████████████████████████████| 20/20 [00:09<00:00,  2.22it/s]\n"
     ]
    },
    {
     "name": "stdout",
     "output_type": "stream",
     "text": [
      "Parse page: 5\n"
     ]
    },
    {
     "name": "stderr",
     "output_type": "stream",
     "text": [
      "100%|█████████████████████████████████████████████████████████████████████████████████| 20/20 [00:07<00:00,  2.56it/s]\n"
     ]
    },
    {
     "name": "stdout",
     "output_type": "stream",
     "text": [
      "Parse page: 6\n"
     ]
    },
    {
     "name": "stderr",
     "output_type": "stream",
     "text": [
      "100%|█████████████████████████████████████████████████████████████████████████████████| 20/20 [00:08<00:00,  2.41it/s]\n"
     ]
    },
    {
     "name": "stdout",
     "output_type": "stream",
     "text": [
      "Parse page: 7\n"
     ]
    },
    {
     "name": "stderr",
     "output_type": "stream",
     "text": [
      "100%|█████████████████████████████████████████████████████████████████████████████████| 20/20 [00:08<00:00,  2.41it/s]\n"
     ]
    },
    {
     "name": "stdout",
     "output_type": "stream",
     "text": [
      "Parse page: 8\n"
     ]
    },
    {
     "name": "stderr",
     "output_type": "stream",
     "text": [
      "100%|█████████████████████████████████████████████████████████████████████████████████| 20/20 [00:07<00:00,  2.62it/s]\n"
     ]
    },
    {
     "name": "stdout",
     "output_type": "stream",
     "text": [
      "Parse page: 9\n"
     ]
    },
    {
     "name": "stderr",
     "output_type": "stream",
     "text": [
      "100%|█████████████████████████████████████████████████████████████████████████████████| 20/20 [00:08<00:00,  2.36it/s]\n"
     ]
    },
    {
     "name": "stdout",
     "output_type": "stream",
     "text": [
      "Parse page: 10\n"
     ]
    },
    {
     "name": "stderr",
     "output_type": "stream",
     "text": [
      "100%|█████████████████████████████████████████████████████████████████████████████████| 20/20 [00:06<00:00,  3.15it/s]\n"
     ]
    },
    {
     "name": "stdout",
     "output_type": "stream",
     "text": [
      "Parse page: 11\n"
     ]
    },
    {
     "name": "stderr",
     "output_type": "stream",
     "text": [
      "100%|█████████████████████████████████████████████████████████████████████████████████| 20/20 [00:06<00:00,  3.02it/s]\n"
     ]
    },
    {
     "name": "stdout",
     "output_type": "stream",
     "text": [
      "Parse page: 12\n"
     ]
    },
    {
     "name": "stderr",
     "output_type": "stream",
     "text": [
      "100%|█████████████████████████████████████████████████████████████████████████████████| 20/20 [00:05<00:00,  3.38it/s]\n"
     ]
    },
    {
     "name": "stdout",
     "output_type": "stream",
     "text": [
      "Parse page: 13\n"
     ]
    },
    {
     "name": "stderr",
     "output_type": "stream",
     "text": [
      "100%|█████████████████████████████████████████████████████████████████████████████████| 20/20 [00:04<00:00,  4.12it/s]\n"
     ]
    },
    {
     "name": "stdout",
     "output_type": "stream",
     "text": [
      "Parse page: 14\n"
     ]
    },
    {
     "name": "stderr",
     "output_type": "stream",
     "text": [
      "100%|███████████████████████████████████████████████████████████████████████████████████| 7/7 [00:01<00:00,  4.07it/s]\n"
     ]
    },
    {
     "data": {
      "text/html": [
       "<div>\n",
       "<style scoped>\n",
       "    .dataframe tbody tr th:only-of-type {\n",
       "        vertical-align: middle;\n",
       "    }\n",
       "\n",
       "    .dataframe tbody tr th {\n",
       "        vertical-align: top;\n",
       "    }\n",
       "\n",
       "    .dataframe thead th {\n",
       "        text-align: right;\n",
       "    }\n",
       "</style>\n",
       "<table border=\"1\" class=\"dataframe\">\n",
       "  <thead>\n",
       "    <tr style=\"text-align: right;\">\n",
       "      <th></th>\n",
       "      <th>names</th>\n",
       "      <th>lat</th>\n",
       "      <th>long</th>\n",
       "      <th>altitudes_m</th>\n",
       "      <th>minelevations_deg</th>\n",
       "    </tr>\n",
       "  </thead>\n",
       "  <tbody>\n",
       "    <tr>\n",
       "      <th>0</th>\n",
       "      <td>2 - KB9JHU</td>\n",
       "      <td>39.236</td>\n",
       "      <td>-86.305</td>\n",
       "      <td>280</td>\n",
       "      <td>5</td>\n",
       "    </tr>\n",
       "    <tr>\n",
       "      <th>1</th>\n",
       "      <td>6 - Apomahon</td>\n",
       "      <td>38.048</td>\n",
       "      <td>23.739</td>\n",
       "      <td>119</td>\n",
       "      <td>20</td>\n",
       "    </tr>\n",
       "    <tr>\n",
       "      <th>2</th>\n",
       "      <td>9 - Talos</td>\n",
       "      <td>35.501</td>\n",
       "      <td>24.011</td>\n",
       "      <td>82</td>\n",
       "      <td>15</td>\n",
       "    </tr>\n",
       "    <tr>\n",
       "      <th>3</th>\n",
       "      <td>12 - W2BFJ</td>\n",
       "      <td>42.744</td>\n",
       "      <td>-71.538</td>\n",
       "      <td>67</td>\n",
       "      <td>4</td>\n",
       "    </tr>\n",
       "    <tr>\n",
       "      <th>4</th>\n",
       "      <td>21 - Avia</td>\n",
       "      <td>36.961</td>\n",
       "      <td>22.145</td>\n",
       "      <td>45</td>\n",
       "      <td>45</td>\n",
       "    </tr>\n",
       "    <tr>\n",
       "      <th>...</th>\n",
       "      <td>...</td>\n",
       "      <td>...</td>\n",
       "      <td>...</td>\n",
       "      <td>...</td>\n",
       "      <td>...</td>\n",
       "    </tr>\n",
       "    <tr>\n",
       "      <th>262</th>\n",
       "      <td>3022 - propulsion.industries</td>\n",
       "      <td>20.725</td>\n",
       "      <td>-103.423</td>\n",
       "      <td>1595</td>\n",
       "      <td>10</td>\n",
       "    </tr>\n",
       "    <tr>\n",
       "      <th>263</th>\n",
       "      <td>3024 - Drachten S-band</td>\n",
       "      <td>53.109</td>\n",
       "      <td>6.108</td>\n",
       "      <td>6</td>\n",
       "      <td>10</td>\n",
       "    </tr>\n",
       "    <tr>\n",
       "      <th>264</th>\n",
       "      <td>3027 - WH6GVF VHF</td>\n",
       "      <td>19.415</td>\n",
       "      <td>-154.892</td>\n",
       "      <td>15</td>\n",
       "      <td>5</td>\n",
       "    </tr>\n",
       "    <tr>\n",
       "      <th>265</th>\n",
       "      <td>3035 - DO7OO WHQ</td>\n",
       "      <td>53.046</td>\n",
       "      <td>8.891</td>\n",
       "      <td>9</td>\n",
       "      <td>5</td>\n",
       "    </tr>\n",
       "    <tr>\n",
       "      <th>266</th>\n",
       "      <td>3051 - sali sami</td>\n",
       "      <td>43.646</td>\n",
       "      <td>5.125</td>\n",
       "      <td>94</td>\n",
       "      <td>10</td>\n",
       "    </tr>\n",
       "  </tbody>\n",
       "</table>\n",
       "<p>267 rows × 5 columns</p>\n",
       "</div>"
      ],
      "text/plain": [
       "                            names     lat     long altitudes_m  \\\n",
       "0                      2 - KB9JHU  39.236  -86.305         280   \n",
       "1                    6 - Apomahon  38.048   23.739         119   \n",
       "2                       9 - Talos  35.501   24.011          82   \n",
       "3                      12 - W2BFJ  42.744  -71.538          67   \n",
       "4                       21 - Avia  36.961   22.145          45   \n",
       "..                            ...     ...      ...         ...   \n",
       "262  3022 - propulsion.industries  20.725 -103.423        1595   \n",
       "263        3024 - Drachten S-band  53.109    6.108           6   \n",
       "264             3027 - WH6GVF VHF  19.415 -154.892          15   \n",
       "265              3035 - DO7OO WHQ  53.046    8.891           9   \n",
       "266              3051 - sali sami  43.646    5.125          94   \n",
       "\n",
       "    minelevations_deg  \n",
       "0                   5  \n",
       "1                  20  \n",
       "2                  15  \n",
       "3                   4  \n",
       "4                  45  \n",
       "..                ...  \n",
       "262                10  \n",
       "263                10  \n",
       "264                 5  \n",
       "265                 5  \n",
       "266                10  \n",
       "\n",
       "[267 rows x 5 columns]"
      ]
     },
     "execution_count": 119,
     "metadata": {},
     "output_type": "execute_result"
    }
   ],
   "source": [
    "df_dict = {\n",
    "    \"names\": [],\n",
    "    \"lat\": [],\n",
    "    \"long\": [],\n",
    "    \"altitudes_m\": [],\n",
    "    \"minelevations_deg\": []\n",
    "}\n",
    "\n",
    "table_query_str = \"https://network.satnogs.org/stations/?testing=0&offline=0&future=0&freq=&page={}\"\n",
    "station_query_str = \"https://network.satnogs.org{}\"\n",
    "\n",
    "for i in range(14):\n",
    "    idx = i+1\n",
    "    print(\"Parse page:\", idx)\n",
    "    \n",
    "    resp = requests.get(query_str.format(idx))\n",
    "    soup = BeautifulSoup(resp.text)\n",
    "    gstable = soup.find(\"table\")\n",
    "    rows = gstable.find_all(\"tr\")\n",
    "    \n",
    "    for row in tqdm(rows):\n",
    "        resp = requests.get(station_query_str.format(row[\"data-href\"]))\n",
    "        soup = BeautifulSoup(resp.text)\n",
    "\n",
    "        # Name\n",
    "        name = soup.find(\"h2\").text.strip()\n",
    "        df_dict[\"names\"].append(name)\n",
    "\n",
    "        rowarray = soup.find(\"tbody\").find_all(\"tr\")\n",
    "\n",
    "        # Coordinates\n",
    "        coords_str = rowarray[2].find_all(\"td\")[1].text.strip()\n",
    "        lat_str, lon_str = coords_str.split(\",\")\n",
    "        lat = float(lat_str[:-1])\n",
    "        lon = float(lon_str[:-1])\n",
    "        df_dict[\"lat\"].append(lat)\n",
    "        df_dict[\"long\"].append(lon)\n",
    "\n",
    "        # Altitude in meter\n",
    "        altitude_m = rowarray[3].find_all(\"td\")[1].text.strip().split(\" \")[0]\n",
    "        df_dict[\"altitudes_m\"].append(altitude_m)\n",
    "\n",
    "        # Min Elevation in deg\n",
    "        minelevation_deg = rowarray[4].find_all(\"td\")[1].text.strip().split(\"°\")[0]\n",
    "        df_dict[\"minelevations_deg\"].append(minelevation_deg)\n",
    "\n",
    "df = pd.DataFrame(df_dict)\n",
    "df"
   ]
  },
  {
   "cell_type": "code",
   "execution_count": 120,
   "id": "d0ec89f7-4158-4fd3-ae43-1ed45dde9d07",
   "metadata": {
    "tags": []
   },
   "outputs": [],
   "source": [
    "df.to_csv(\"data/gsdata/gsdata_satnog.csv\")"
   ]
  },
  {
   "cell_type": "markdown",
   "id": "be4897ff-1d4d-441f-840b-751657cf5683",
   "metadata": {
    "tags": []
   },
   "source": [
    "## Plotting GSaaS Map"
   ]
  },
  {
   "cell_type": "code",
   "execution_count": 121,
   "id": "f00d12dc-9e71-4479-8621-349d5740d5ae",
   "metadata": {
    "tags": []
   },
   "outputs": [],
   "source": [
    "# https://network.satnogs.org/stations/\n",
    "# Scraped, see code above\n",
    "gsdata_satnog = pd.read_csv(\"data/gsdata/gsdata_satnog.csv\")\n",
    "\n",
    "# https://www.ksat.no/ground-network-services/the-ksat-global-ground-station-network/\n",
    "# Accessed: 2023-03-08\n",
    "gsdata_ksat   = pd.read_csv(\"data/gsdata/gsdata_ksat.csv\")\n",
    "\n",
    "# https://atlasground.com/wp-content/uploads/2022/12/WEB-120522-Antenna-Network-Map.pdf\n",
    "# Accessed: 2023-03-09\n",
    "gsdata_atlas  = pd.read_csv(\"data/gsdata/gsdata_atlas.csv\")\n",
    "\n",
    "# https://leaf.space/\n",
    "# Accessed: 2023-03-09\n",
    "gsdata_leaf   = pd.read_csv(\"data/gsdata/gsdata_leaf.csv\")"
   ]
  },
  {
   "cell_type": "code",
   "execution_count": 134,
   "id": "0c4fb897-210f-48b1-a5da-b48c0831fbf7",
   "metadata": {
    "tags": []
   },
   "outputs": [
    {
     "data": {
      "image/png": "[encoded data removed]",
      "text/plain": [
       "<Figure size 700x300 with 1 Axes>"
      ]
     },
     "metadata": {},
     "output_type": "display_data"
    }
   ],
   "source": [
    "continents = [\"AF\", \"AS\", \"EU\", \"NA\", \"OC\", \"SA\"]\n",
    "cols = [\"#c1d5e2\", \"#ce9c7f\", \"#7598b6\", \"#6a7465\", \"#914c09\", \"#663979\", \"#fbe17b\"]\n",
    "\n",
    "world = geopandas.read_file(geopandas.datasets.get_path('naturalearth_lowres'))\n",
    "#world = world[(world.name!=\"Antarctica\")]\n",
    "\n",
    "def plotCountryPatch( axes, country_name, fcolor ):\n",
    "    # plot a country on the provided axes\n",
    "    nami = world[world.name == country_name]\n",
    "    namigm = nami.__geo_interface__['features']  # geopandas's geo_interface\n",
    "    namig0 = {'type': namigm[0]['geometry']['type'], \\\n",
    "              'coordinates': namigm[0]['geometry']['coordinates']}\n",
    "    axes.add_patch(PolygonPatch( namig0, fc=fcolor, ec=\"black\", alpha=0.85, zorder=2, linewidth=0.0 ))\n",
    "\n",
    "\n",
    "fig, ax = plt.subplots(figsize=(7, 3), subplot_kw={'projection': ccrs.PlateCarree()})\n",
    "\n",
    "cmap = colors.ListedColormap(cols[:-2])\n",
    "world.plot(facecolor = \"lightgrey\", edgecolor=\"white\", ax=ax, linewidth=0.2)\n",
    "\n",
    "# Plotting GS points\n",
    "def plot_gsdata(gsdata_df, ax, label, marker, color, size=10):\n",
    "    latitude, longitude = gsdata_df[\"lat\"], gsdata_df[\"long\"]\n",
    "    ax.scatter(longitude, latitude,\n",
    "               sizes = [size],\n",
    "               color=color,\n",
    "               zorder = 10,\n",
    "               marker=marker,\n",
    "               linewidth = 0.4,\n",
    "               label=label)\n",
    "\n",
    "plot_gsdata(gsdata_satnog, ax, \"SatNOGS\", \"v\", \"grey\", 4)\n",
    "plot_gsdata(gsdata_ksat, ax, \"Ksat\", \"x\", \"red\")\n",
    "plot_gsdata(gsdata_leaf, ax, \"Leaf Space\", \"^\", \"blue\")\n",
    "plot_gsdata(gsdata_atlas, ax, \"ATLAS\", \"o\", \"green\")\n",
    "\n",
    "    \n",
    "ax.set_extent([-180, 180, -60, 90], ccrs.PlateCarree())\n",
    "ax.get_xaxis().set_ticks([])\n",
    "ax.get_yaxis().set_ticks([])\n",
    "\n",
    "#plt.legend(loc = \"lower left\")\n",
    "plt.legend(loc='upper center', bbox_to_anchor=(0.5, 1.16),\n",
    "          ncol=3, fancybox=True, shadow=True)\n",
    "\n",
    "plt.tight_layout()\n",
    "plt.savefig(\"figures/gs_services.pdf\", pad_inches=0)\n",
    "plt.show()"
   ]
  },
  {
   "cell_type": "code",
   "execution_count": null,
   "id": "ed10e2fa-c0ee-4e73-a6f7-4c2f82e54e6d",
   "metadata": {},
   "outputs": [],
   "source": []
  }
 ],
 "metadata": {
  "kernelspec": {
   "display_name": "Python 3 (ipykernel)",
   "language": "python",
   "name": "python3"
  },
  "language_info": {
   "codemirror_mode": {
    "name": "ipython",
    "version": 3
   },
   "file_extension": ".py",
   "mimetype": "text/x-python",
   "name": "python",
   "nbconvert_exporter": "python",
   "pygments_lexer": "ipython3",
   "version": "3.10.6"
  }
 },
 "nbformat": 4,
 "nbformat_minor": 5
}
