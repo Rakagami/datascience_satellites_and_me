{
 "cells": [
  {
   "cell_type": "code",
   "execution_count": 135,
   "id": "4d39d36b-368c-4b6a-9440-7253d3337d33",
   "metadata": {
    "tags": []
   },
   "outputs": [],
   "source": [
    "import geopandas\n",
    "from matplotlib import colors\n",
    "import matplotlib.pyplot as plt\n",
    "from descartes import PolygonPatch\n",
    "import geohash\n",
    "import numpy as np\n",
    "import cartopy.crs as ccrs\n",
    "import pandas as pd\n",
    "import json"
   ]
  },
  {
   "cell_type": "markdown",
   "id": "1ef89195-bf5f-4a8a-98a8-fbc34d69af12",
   "metadata": {},
   "source": [
    "## Parse / Scraping Station data"
   ]
  },
  {
   "cell_type": "code",
   "execution_count": 111,
   "id": "db067401-4b79-4440-8a6c-e3f5d1f9fa0a",
   "metadata": {
    "tags": []
   },
   "outputs": [],
   "source": [
    "from tqdm import tqdm\n",
    "import requests\n",
    "from bs4 import BeautifulSoup"
   ]
  },
  {
   "cell_type": "markdown",
   "id": "2110d471-ab9d-4a5d-b481-9e32d20854b7",
   "metadata": {
    "tags": []
   },
   "source": [
    "### Scraping Starlink Gateway Data"
   ]
  },
  {
   "cell_type": "markdown",
   "id": "61040302-b113-4180-b8f7-6a401ef67e3c",
   "metadata": {},
   "source": [
    "The site https://satellitemap.space/ hosts a crowd-sourced map of Starlink gateways (among other things). As of 2023-03-09, we can extract the basestations depicted in this website by saving the `basestation.json` file from the network traffics. In the firefox browser, we can copy the `basestation.json` from the network traffix log. Below we display the content of that file.\n",
    "\n",
    "The `desc`, coordinates `lat`&`lng`, and maybe `town` is the most interesting. It is not clear to me currently, where the `status` attribute comes from."
   ]
  },
  {
   "cell_type": "code",
   "execution_count": 221,
   "id": "790531e7-3277-4654-93f9-d4b523211861",
   "metadata": {
    "tags": []
   },
   "outputs": [],
   "source": [
    "# Manually written logic to classify basestation sources\n",
    "def tag_sourcetype(row):\n",
    "    desc = row[\"desc\"]\n",
    "    if(\"fcc.report\" in desc\n",
    "        or \"web.acma.gov.au\" in desc\n",
    "        or \"rrf.rsm.govt.nz\" in desc):\n",
    "        row[\"srctype\"] = \"filing\"\n",
    "    elif(\"whatdotheyknow.com\" in desc\n",
    "        or \"arcep.fr\" in desc\n",
    "        or \"legales.elmostrador.cl\" in desc\n",
    "        or \"bip.uke.gov.pl\" in desc):\n",
    "        row[\"srctype\"] = \"filing2\"\n",
    "    else:\n",
    "        row[\"srctype\"] = \"crowdsourced\"\n",
    "        \n",
    "# removed from elif: or \"t.me\" in desc\n",
    "# We can't really say that the information from the PermessiBot is traceable from\n",
    "# an official public document because I can't find anything linked in the telegram bot message"
   ]
  },
  {
   "cell_type": "code",
   "execution_count": 222,
   "id": "7f03f6c8-1449-4791-b52a-cd894b7c3cee",
   "metadata": {
    "tags": []
   },
   "outputs": [
    {
     "data": {
      "text/html": [
       "<div>\n",
       "<style scoped>\n",
       "    .dataframe tbody tr th:only-of-type {\n",
       "        vertical-align: middle;\n",
       "    }\n",
       "\n",
       "    .dataframe tbody tr th {\n",
       "        vertical-align: top;\n",
       "    }\n",
       "\n",
       "    .dataframe thead th {\n",
       "        text-align: right;\n",
       "    }\n",
       "</style>\n",
       "<table border=\"1\" class=\"dataframe\">\n",
       "  <thead>\n",
       "    <tr style=\"text-align: right;\">\n",
       "      <th></th>\n",
       "      <th>town</th>\n",
       "      <th>desc</th>\n",
       "      <th>lat</th>\n",
       "      <th>long</th>\n",
       "      <th>cc</th>\n",
       "      <th>fd</th>\n",
       "      <th>td</th>\n",
       "      <th>dg</th>\n",
       "      <th>fdd</th>\n",
       "      <th>tdd</th>\n",
       "      <th>dgd</th>\n",
       "      <th>status</th>\n",
       "      <th>srctype</th>\n",
       "      <th>d</th>\n",
       "      <th>url</th>\n",
       "    </tr>\n",
       "  </thead>\n",
       "  <tbody>\n",
       "    <tr>\n",
       "      <th>0</th>\n",
       "      <td>Conrad MT</td>\n",
       "      <td>Antenna count: 8&lt;br&gt;Antenna diameter: 5 feet&lt;b...</td>\n",
       "      <td>48.203306</td>\n",
       "      <td>-111.945278</td>\n",
       "      <td>US</td>\n",
       "      <td>2019-07-17</td>\n",
       "      <td>2019-11-05</td>\n",
       "      <td>2020-03-04</td>\n",
       "      <td>882.0</td>\n",
       "      <td>771.0</td>\n",
       "      <td>651.0</td>\n",
       "      <td>active</td>\n",
       "      <td>filing</td>\n",
       "      <td>NaN</td>\n",
       "      <td>NaN</td>\n",
       "    </tr>\n",
       "    <tr>\n",
       "      <th>1</th>\n",
       "      <td>Loring ME</td>\n",
       "      <td>Antenna count: 8&lt;br&gt;Antenna diameter: 5 feet&lt;b...</td>\n",
       "      <td>46.914917</td>\n",
       "      <td>-67.919528</td>\n",
       "      <td>US</td>\n",
       "      <td>2019-09-24</td>\n",
       "      <td>2020-01-08</td>\n",
       "      <td></td>\n",
       "      <td>813.0</td>\n",
       "      <td>707.0</td>\n",
       "      <td>0.0</td>\n",
       "      <td>active</td>\n",
       "      <td>filing</td>\n",
       "      <td>NaN</td>\n",
       "      <td>NaN</td>\n",
       "    </tr>\n",
       "    <tr>\n",
       "      <th>2</th>\n",
       "      <td>Redmond WA</td>\n",
       "      <td>Antenna count: 8&lt;br&gt;Antenna diameter: 5 feet&lt;b...</td>\n",
       "      <td>47.694194</td>\n",
       "      <td>-122.032139</td>\n",
       "      <td>US</td>\n",
       "      <td>2019-04-05</td>\n",
       "      <td>2019-05-15</td>\n",
       "      <td>2019-05-15</td>\n",
       "      <td>985.0</td>\n",
       "      <td>945.0</td>\n",
       "      <td>945.0</td>\n",
       "      <td>active</td>\n",
       "      <td>filing</td>\n",
       "      <td>NaN</td>\n",
       "      <td>NaN</td>\n",
       "    </tr>\n",
       "    <tr>\n",
       "      <th>3</th>\n",
       "      <td>Greenville PA</td>\n",
       "      <td>Antenna count: 8&lt;br&gt;Antenna diameter: 5 feet&lt;b...</td>\n",
       "      <td>41.433556</td>\n",
       "      <td>-80.333222</td>\n",
       "      <td>US</td>\n",
       "      <td>2019-04-05</td>\n",
       "      <td>2019-05-15</td>\n",
       "      <td>2019-05-15</td>\n",
       "      <td>985.0</td>\n",
       "      <td>945.0</td>\n",
       "      <td>945.0</td>\n",
       "      <td>active</td>\n",
       "      <td>filing</td>\n",
       "      <td>NaN</td>\n",
       "      <td>NaN</td>\n",
       "    </tr>\n",
       "    <tr>\n",
       "      <th>4</th>\n",
       "      <td>Merrillan WI</td>\n",
       "      <td>&lt;img src=\"https://doc-10-78-mymaps.googleuserc...</td>\n",
       "      <td>44.406333</td>\n",
       "      <td>-90.814278</td>\n",
       "      <td>US</td>\n",
       "      <td>2019-04-05</td>\n",
       "      <td>2019-05-15</td>\n",
       "      <td>2019-05-15</td>\n",
       "      <td>985.0</td>\n",
       "      <td>945.0</td>\n",
       "      <td>945.0</td>\n",
       "      <td>active</td>\n",
       "      <td>filing</td>\n",
       "      <td>NaN</td>\n",
       "      <td>NaN</td>\n",
       "    </tr>\n",
       "    <tr>\n",
       "      <th>...</th>\n",
       "      <td>...</td>\n",
       "      <td>...</td>\n",
       "      <td>...</td>\n",
       "      <td>...</td>\n",
       "      <td>...</td>\n",
       "      <td>...</td>\n",
       "      <td>...</td>\n",
       "      <td>...</td>\n",
       "      <td>...</td>\n",
       "      <td>...</td>\n",
       "      <td>...</td>\n",
       "      <td>...</td>\n",
       "      <td>...</td>\n",
       "      <td>...</td>\n",
       "      <td>...</td>\n",
       "    </tr>\n",
       "    <tr>\n",
       "      <th>111</th>\n",
       "      <td>Ibi, Alicante</td>\n",
       "      <td>Feedback received, exact location/status unknown.</td>\n",
       "      <td>38.630700</td>\n",
       "      <td>-0.544700</td>\n",
       "      <td>ES</td>\n",
       "      <td>NaN</td>\n",
       "      <td>NaN</td>\n",
       "      <td>NaN</td>\n",
       "      <td>NaN</td>\n",
       "      <td>NaN</td>\n",
       "      <td>NaN</td>\n",
       "      <td>NaN</td>\n",
       "      <td>crowdsourced</td>\n",
       "      <td>NaN</td>\n",
       "      <td>NaN</td>\n",
       "    </tr>\n",
       "    <tr>\n",
       "      <th>112</th>\n",
       "      <td>Lepe, Huelva</td>\n",
       "      <td>Feedback received, exact location/status unkniwn.</td>\n",
       "      <td>37.257200</td>\n",
       "      <td>-7.203300</td>\n",
       "      <td>ES</td>\n",
       "      <td>NaN</td>\n",
       "      <td>NaN</td>\n",
       "      <td>NaN</td>\n",
       "      <td>NaN</td>\n",
       "      <td>NaN</td>\n",
       "      <td>NaN</td>\n",
       "      <td>NaN</td>\n",
       "      <td>crowdsourced</td>\n",
       "      <td>NaN</td>\n",
       "      <td>NaN</td>\n",
       "    </tr>\n",
       "    <tr>\n",
       "      <th>113</th>\n",
       "      <td>Foggia</td>\n",
       "      <td>Approximate. State Road 554. See permessibot t...</td>\n",
       "      <td>41.507306</td>\n",
       "      <td>15.585439</td>\n",
       "      <td>IT</td>\n",
       "      <td>NaN</td>\n",
       "      <td>NaN</td>\n",
       "      <td>NaN</td>\n",
       "      <td>NaN</td>\n",
       "      <td>NaN</td>\n",
       "      <td>NaN</td>\n",
       "      <td>NaN</td>\n",
       "      <td>filing2</td>\n",
       "      <td>NaN</td>\n",
       "      <td>NaN</td>\n",
       "    </tr>\n",
       "    <tr>\n",
       "      <th>114</th>\n",
       "      <td>Petrosino, Marsala</td>\n",
       "      <td>Approximate. See permissibot telegram note htt...</td>\n",
       "      <td>37.711000</td>\n",
       "      <td>12.487900</td>\n",
       "      <td>IT</td>\n",
       "      <td>NaN</td>\n",
       "      <td>NaN</td>\n",
       "      <td>NaN</td>\n",
       "      <td>NaN</td>\n",
       "      <td>NaN</td>\n",
       "      <td>NaN</td>\n",
       "      <td>NaN</td>\n",
       "      <td>filing2</td>\n",
       "      <td>NaN</td>\n",
       "      <td>NaN</td>\n",
       "    </tr>\n",
       "    <tr>\n",
       "      <th>115</th>\n",
       "      <td>Lacchiarella, Villamaggiore</td>\n",
       "      <td>Approximate. See permissibot telegram note htt...</td>\n",
       "      <td>45.320700</td>\n",
       "      <td>9.188600</td>\n",
       "      <td>IT</td>\n",
       "      <td>NaN</td>\n",
       "      <td>NaN</td>\n",
       "      <td>NaN</td>\n",
       "      <td>NaN</td>\n",
       "      <td>NaN</td>\n",
       "      <td>NaN</td>\n",
       "      <td>NaN</td>\n",
       "      <td>filing2</td>\n",
       "      <td>NaN</td>\n",
       "      <td>NaN</td>\n",
       "    </tr>\n",
       "  </tbody>\n",
       "</table>\n",
       "<p>116 rows × 15 columns</p>\n",
       "</div>"
      ],
      "text/plain": [
       "                            town  \\\n",
       "0                      Conrad MT   \n",
       "1                      Loring ME   \n",
       "2                     Redmond WA   \n",
       "3                  Greenville PA   \n",
       "4                   Merrillan WI   \n",
       "..                           ...   \n",
       "111                Ibi, Alicante   \n",
       "112                 Lepe, Huelva   \n",
       "113                       Foggia   \n",
       "114           Petrosino, Marsala   \n",
       "115  Lacchiarella, Villamaggiore   \n",
       "\n",
       "                                                  desc        lat        long  \\\n",
       "0    Antenna count: 8<br>Antenna diameter: 5 feet<b...  48.203306 -111.945278   \n",
       "1    Antenna count: 8<br>Antenna diameter: 5 feet<b...  46.914917  -67.919528   \n",
       "2    Antenna count: 8<br>Antenna diameter: 5 feet<b...  47.694194 -122.032139   \n",
       "3    Antenna count: 8<br>Antenna diameter: 5 feet<b...  41.433556  -80.333222   \n",
       "4    <img src=\"https://doc-10-78-mymaps.googleuserc...  44.406333  -90.814278   \n",
       "..                                                 ...        ...         ...   \n",
       "111  Feedback received, exact location/status unknown.  38.630700   -0.544700   \n",
       "112  Feedback received, exact location/status unkniwn.  37.257200   -7.203300   \n",
       "113  Approximate. State Road 554. See permessibot t...  41.507306   15.585439   \n",
       "114  Approximate. See permissibot telegram note htt...  37.711000   12.487900   \n",
       "115  Approximate. See permissibot telegram note htt...  45.320700    9.188600   \n",
       "\n",
       "     cc          fd          td          dg    fdd    tdd    dgd  status  \\\n",
       "0    US  2019-07-17  2019-11-05  2020-03-04  882.0  771.0  651.0  active   \n",
       "1    US  2019-09-24  2020-01-08              813.0  707.0    0.0  active   \n",
       "2    US  2019-04-05  2019-05-15  2019-05-15  985.0  945.0  945.0  active   \n",
       "3    US  2019-04-05  2019-05-15  2019-05-15  985.0  945.0  945.0  active   \n",
       "4    US  2019-04-05  2019-05-15  2019-05-15  985.0  945.0  945.0  active   \n",
       "..   ..         ...         ...         ...    ...    ...    ...     ...   \n",
       "111  ES         NaN         NaN         NaN    NaN    NaN    NaN     NaN   \n",
       "112  ES         NaN         NaN         NaN    NaN    NaN    NaN     NaN   \n",
       "113  IT         NaN         NaN         NaN    NaN    NaN    NaN     NaN   \n",
       "114  IT         NaN         NaN         NaN    NaN    NaN    NaN     NaN   \n",
       "115  IT         NaN         NaN         NaN    NaN    NaN    NaN     NaN   \n",
       "\n",
       "          srctype    d  url  \n",
       "0          filing  NaN  NaN  \n",
       "1          filing  NaN  NaN  \n",
       "2          filing  NaN  NaN  \n",
       "3          filing  NaN  NaN  \n",
       "4          filing  NaN  NaN  \n",
       "..            ...  ...  ...  \n",
       "111  crowdsourced  NaN  NaN  \n",
       "112  crowdsourced  NaN  NaN  \n",
       "113       filing2  NaN  NaN  \n",
       "114       filing2  NaN  NaN  \n",
       "115       filing2  NaN  NaN  \n",
       "\n",
       "[116 rows x 15 columns]"
      ]
     },
     "execution_count": 222,
     "metadata": {},
     "output_type": "execute_result"
    }
   ],
   "source": [
    "with open(\"data/gsdata/satellitemap_basestations.json\", \"r\") as bs_file:\n",
    "    basestation_json = json.loads(bs_file.read())\n",
    "\n",
    "basestations = basestation_json[\"basestations\"]\n",
    "for b in basestations:\n",
    "    tag_sourcetype(b)\n",
    "slgs_df = pd.DataFrame.from_dict(basestations)\n",
    "slgs_df.rename(columns={'lng':'long'}, inplace=True)\n",
    "slgs_df"
   ]
  },
  {
   "cell_type": "code",
   "execution_count": 223,
   "id": "50466c4d-aa67-48a8-a2ab-cfe2134b2179",
   "metadata": {
    "tags": []
   },
   "outputs": [],
   "source": [
    "# Starlink Availability scraped from wikipedia\n",
    "\n",
    "from bs4 import BeautifulSoup\n",
    "import requests\n",
    "\n",
    "response = requests.get(\"https://en.wikipedia.org/wiki/Starlink\")\n",
    "soup = BeautifulSoup(response.text)\n",
    "\n",
    "countries_soup = soup.find_all(\"table\", attrs={\"class\": \"wikitable\"})[1]\n",
    "\n",
    "countries = []\n",
    "for a in countries_soup.find_all(\"tr\")[1:]:\n",
    "    for b in a.find_all(\"td\")[2].find_all(\"a\"):\n",
    "        countries.append(b.text)"
   ]
  },
  {
   "cell_type": "markdown",
   "id": "0548301a-a800-46a4-97d5-ec8ccc6fb9ed",
   "metadata": {
    "tags": []
   },
   "source": [
    "> Why scraping from wikipedia and not from the starlink website directly?\n",
    "\n",
    "To the best of our knowledge, there is no direct way to get access on a list of accessibility of a country. The [website](https://www.starlink.com/map) shows a map of availabilities, but not directly scrapeable list. Api endpoints of [prices.json](https://api.starlink.com/public-files/prices.json) shows prices for each country and api endpoint [coverage_residential.json](https://api.starlink.com/public-files/coverage_residential.json) shows, I'm assuming, polygon data for the map rendering of availabilities. Getting the country name form the polygon data is non-trivial and the prices list do not guarantee that Starlink is in fact available in that country, only that there exists a price out there."
   ]
  },
  {
   "cell_type": "markdown",
   "id": "2f2c7aa8-dcdc-4a1e-b72f-9676d4933097",
   "metadata": {
    "jp-MarkdownHeadingCollapsed": true,
    "tags": []
   },
   "source": [
    "### Scraping SatNOGS data"
   ]
  },
  {
   "cell_type": "code",
   "execution_count": 119,
   "id": "a5fd4300-0bd0-4bd1-874c-f659895e1326",
   "metadata": {
    "tags": []
   },
   "outputs": [
    {
     "name": "stdout",
     "output_type": "stream",
     "text": [
      "Parse page: 1\n"
     ]
    },
    {
     "name": "stderr",
     "output_type": "stream",
     "text": [
      "100%|█████████████████████████████████████████████████████████████████████████████████| 20/20 [00:10<00:00,  1.86it/s]\n"
     ]
    },
    {
     "name": "stdout",
     "output_type": "stream",
     "text": [
      "Parse page: 2\n"
     ]
    },
    {
     "name": "stderr",
     "output_type": "stream",
     "text": [
      "100%|█████████████████████████████████████████████████████████████████████████████████| 20/20 [00:07<00:00,  2.50it/s]\n"
     ]
    },
    {
     "name": "stdout",
     "output_type": "stream",
     "text": [
      "Parse page: 3\n"
     ]
    },
    {
     "name": "stderr",
     "output_type": "stream",
     "text": [
      "100%|█████████████████████████████████████████████████████████████████████████████████| 20/20 [00:08<00:00,  2.49it/s]\n"
     ]
    },
    {
     "name": "stdout",
     "output_type": "stream",
     "text": [
      "Parse page: 4\n"
     ]
    },
    {
     "name": "stderr",
     "output_type": "stream",
     "text": [
      "100%|█████████████████████████████████████████████████████████████████████████████████| 20/20 [00:09<00:00,  2.22it/s]\n"
     ]
    },
    {
     "name": "stdout",
     "output_type": "stream",
     "text": [
      "Parse page: 5\n"
     ]
    },
    {
     "name": "stderr",
     "output_type": "stream",
     "text": [
      "100%|█████████████████████████████████████████████████████████████████████████████████| 20/20 [00:07<00:00,  2.56it/s]\n"
     ]
    },
    {
     "name": "stdout",
     "output_type": "stream",
     "text": [
      "Parse page: 6\n"
     ]
    },
    {
     "name": "stderr",
     "output_type": "stream",
     "text": [
      "100%|█████████████████████████████████████████████████████████████████████████████████| 20/20 [00:08<00:00,  2.41it/s]\n"
     ]
    },
    {
     "name": "stdout",
     "output_type": "stream",
     "text": [
      "Parse page: 7\n"
     ]
    },
    {
     "name": "stderr",
     "output_type": "stream",
     "text": [
      "100%|█████████████████████████████████████████████████████████████████████████████████| 20/20 [00:08<00:00,  2.41it/s]\n"
     ]
    },
    {
     "name": "stdout",
     "output_type": "stream",
     "text": [
      "Parse page: 8\n"
     ]
    },
    {
     "name": "stderr",
     "output_type": "stream",
     "text": [
      "100%|█████████████████████████████████████████████████████████████████████████████████| 20/20 [00:07<00:00,  2.62it/s]\n"
     ]
    },
    {
     "name": "stdout",
     "output_type": "stream",
     "text": [
      "Parse page: 9\n"
     ]
    },
    {
     "name": "stderr",
     "output_type": "stream",
     "text": [
      "100%|█████████████████████████████████████████████████████████████████████████████████| 20/20 [00:08<00:00,  2.36it/s]\n"
     ]
    },
    {
     "name": "stdout",
     "output_type": "stream",
     "text": [
      "Parse page: 10\n"
     ]
    },
    {
     "name": "stderr",
     "output_type": "stream",
     "text": [
      "100%|█████████████████████████████████████████████████████████████████████████████████| 20/20 [00:06<00:00,  3.15it/s]\n"
     ]
    },
    {
     "name": "stdout",
     "output_type": "stream",
     "text": [
      "Parse page: 11\n"
     ]
    },
    {
     "name": "stderr",
     "output_type": "stream",
     "text": [
      "100%|█████████████████████████████████████████████████████████████████████████████████| 20/20 [00:06<00:00,  3.02it/s]\n"
     ]
    },
    {
     "name": "stdout",
     "output_type": "stream",
     "text": [
      "Parse page: 12\n"
     ]
    },
    {
     "name": "stderr",
     "output_type": "stream",
     "text": [
      "100%|█████████████████████████████████████████████████████████████████████████████████| 20/20 [00:05<00:00,  3.38it/s]\n"
     ]
    },
    {
     "name": "stdout",
     "output_type": "stream",
     "text": [
      "Parse page: 13\n"
     ]
    },
    {
     "name": "stderr",
     "output_type": "stream",
     "text": [
      "100%|█████████████████████████████████████████████████████████████████████████████████| 20/20 [00:04<00:00,  4.12it/s]\n"
     ]
    },
    {
     "name": "stdout",
     "output_type": "stream",
     "text": [
      "Parse page: 14\n"
     ]
    },
    {
     "name": "stderr",
     "output_type": "stream",
     "text": [
      "100%|███████████████████████████████████████████████████████████████████████████████████| 7/7 [00:01<00:00,  4.07it/s]\n"
     ]
    },
    {
     "data": {
      "text/html": [
       "<div>\n",
       "<style scoped>\n",
       "    .dataframe tbody tr th:only-of-type {\n",
       "        vertical-align: middle;\n",
       "    }\n",
       "\n",
       "    .dataframe tbody tr th {\n",
       "        vertical-align: top;\n",
       "    }\n",
       "\n",
       "    .dataframe thead th {\n",
       "        text-align: right;\n",
       "    }\n",
       "</style>\n",
       "<table border=\"1\" class=\"dataframe\">\n",
       "  <thead>\n",
       "    <tr style=\"text-align: right;\">\n",
       "      <th></th>\n",
       "      <th>names</th>\n",
       "      <th>lat</th>\n",
       "      <th>long</th>\n",
       "      <th>altitudes_m</th>\n",
       "      <th>minelevations_deg</th>\n",
       "    </tr>\n",
       "  </thead>\n",
       "  <tbody>\n",
       "    <tr>\n",
       "      <th>0</th>\n",
       "      <td>2 - KB9JHU</td>\n",
       "      <td>39.236</td>\n",
       "      <td>-86.305</td>\n",
       "      <td>280</td>\n",
       "      <td>5</td>\n",
       "    </tr>\n",
       "    <tr>\n",
       "      <th>1</th>\n",
       "      <td>6 - Apomahon</td>\n",
       "      <td>38.048</td>\n",
       "      <td>23.739</td>\n",
       "      <td>119</td>\n",
       "      <td>20</td>\n",
       "    </tr>\n",
       "    <tr>\n",
       "      <th>2</th>\n",
       "      <td>9 - Talos</td>\n",
       "      <td>35.501</td>\n",
       "      <td>24.011</td>\n",
       "      <td>82</td>\n",
       "      <td>15</td>\n",
       "    </tr>\n",
       "    <tr>\n",
       "      <th>3</th>\n",
       "      <td>12 - W2BFJ</td>\n",
       "      <td>42.744</td>\n",
       "      <td>-71.538</td>\n",
       "      <td>67</td>\n",
       "      <td>4</td>\n",
       "    </tr>\n",
       "    <tr>\n",
       "      <th>4</th>\n",
       "      <td>21 - Avia</td>\n",
       "      <td>36.961</td>\n",
       "      <td>22.145</td>\n",
       "      <td>45</td>\n",
       "      <td>45</td>\n",
       "    </tr>\n",
       "    <tr>\n",
       "      <th>...</th>\n",
       "      <td>...</td>\n",
       "      <td>...</td>\n",
       "      <td>...</td>\n",
       "      <td>...</td>\n",
       "      <td>...</td>\n",
       "    </tr>\n",
       "    <tr>\n",
       "      <th>262</th>\n",
       "      <td>3022 - propulsion.industries</td>\n",
       "      <td>20.725</td>\n",
       "      <td>-103.423</td>\n",
       "      <td>1595</td>\n",
       "      <td>10</td>\n",
       "    </tr>\n",
       "    <tr>\n",
       "      <th>263</th>\n",
       "      <td>3024 - Drachten S-band</td>\n",
       "      <td>53.109</td>\n",
       "      <td>6.108</td>\n",
       "      <td>6</td>\n",
       "      <td>10</td>\n",
       "    </tr>\n",
       "    <tr>\n",
       "      <th>264</th>\n",
       "      <td>3027 - WH6GVF VHF</td>\n",
       "      <td>19.415</td>\n",
       "      <td>-154.892</td>\n",
       "      <td>15</td>\n",
       "      <td>5</td>\n",
       "    </tr>\n",
       "    <tr>\n",
       "      <th>265</th>\n",
       "      <td>3035 - DO7OO WHQ</td>\n",
       "      <td>53.046</td>\n",
       "      <td>8.891</td>\n",
       "      <td>9</td>\n",
       "      <td>5</td>\n",
       "    </tr>\n",
       "    <tr>\n",
       "      <th>266</th>\n",
       "      <td>3051 - sali sami</td>\n",
       "      <td>43.646</td>\n",
       "      <td>5.125</td>\n",
       "      <td>94</td>\n",
       "      <td>10</td>\n",
       "    </tr>\n",
       "  </tbody>\n",
       "</table>\n",
       "<p>267 rows × 5 columns</p>\n",
       "</div>"
      ],
      "text/plain": [
       "                            names     lat     long altitudes_m  \\\n",
       "0                      2 - KB9JHU  39.236  -86.305         280   \n",
       "1                    6 - Apomahon  38.048   23.739         119   \n",
       "2                       9 - Talos  35.501   24.011          82   \n",
       "3                      12 - W2BFJ  42.744  -71.538          67   \n",
       "4                       21 - Avia  36.961   22.145          45   \n",
       "..                            ...     ...      ...         ...   \n",
       "262  3022 - propulsion.industries  20.725 -103.423        1595   \n",
       "263        3024 - Drachten S-band  53.109    6.108           6   \n",
       "264             3027 - WH6GVF VHF  19.415 -154.892          15   \n",
       "265              3035 - DO7OO WHQ  53.046    8.891           9   \n",
       "266              3051 - sali sami  43.646    5.125          94   \n",
       "\n",
       "    minelevations_deg  \n",
       "0                   5  \n",
       "1                  20  \n",
       "2                  15  \n",
       "3                   4  \n",
       "4                  45  \n",
       "..                ...  \n",
       "262                10  \n",
       "263                10  \n",
       "264                 5  \n",
       "265                 5  \n",
       "266                10  \n",
       "\n",
       "[267 rows x 5 columns]"
      ]
     },
     "execution_count": 119,
     "metadata": {},
     "output_type": "execute_result"
    }
   ],
   "source": [
    "# Very rough scraper, does not scraper frequency data which might be interesting at some point\n",
    "\n",
    "df_dict = {\n",
    "    \"names\": [],\n",
    "    \"lat\": [],\n",
    "    \"long\": [],\n",
    "    \"altitudes_m\": [],\n",
    "    \"minelevations_deg\": []\n",
    "}\n",
    "\n",
    "table_query_str = \"https://network.satnogs.org/stations/?testing=0&offline=0&future=0&freq=&page={}\"\n",
    "station_query_str = \"https://network.satnogs.org{}\"\n",
    "\n",
    "for i in range(14):\n",
    "    idx = i+1\n",
    "    print(\"Parse page:\", idx)\n",
    "    \n",
    "    resp = requests.get(query_str.format(idx))\n",
    "    soup = BeautifulSoup(resp.text)\n",
    "    gstable = soup.find(\"table\")\n",
    "    rows = gstable.find_all(\"tr\")\n",
    "    \n",
    "    for row in tqdm(rows):\n",
    "        resp = requests.get(station_query_str.format(row[\"data-href\"]))\n",
    "        soup = BeautifulSoup(resp.text)\n",
    "\n",
    "        # Name\n",
    "        name = soup.find(\"h2\").text.strip()\n",
    "        df_dict[\"names\"].append(name)\n",
    "\n",
    "        rowarray = soup.find(\"tbody\").find_all(\"tr\")\n",
    "\n",
    "        # Coordinates\n",
    "        coords_str = rowarray[2].find_all(\"td\")[1].text.strip()\n",
    "        lat_str, lon_str = coords_str.split(\",\")\n",
    "        lat = float(lat_str[:-1])\n",
    "        lon = float(lon_str[:-1])\n",
    "        df_dict[\"lat\"].append(lat)\n",
    "        df_dict[\"long\"].append(lon)\n",
    "\n",
    "        # Altitude in meter\n",
    "        altitude_m = rowarray[3].find_all(\"td\")[1].text.strip().split(\" \")[0]\n",
    "        df_dict[\"altitudes_m\"].append(altitude_m)\n",
    "\n",
    "        # Min Elevation in deg\n",
    "        minelevation_deg = rowarray[4].find_all(\"td\")[1].text.strip().split(\"°\")[0]\n",
    "        df_dict[\"minelevations_deg\"].append(minelevation_deg)\n",
    "\n",
    "df = pd.DataFrame(df_dict)\n",
    "df"
   ]
  },
  {
   "cell_type": "code",
   "execution_count": 120,
   "id": "d0ec89f7-4158-4fd3-ae43-1ed45dde9d07",
   "metadata": {
    "tags": []
   },
   "outputs": [],
   "source": [
    "df.to_csv(\"data/gsdata/gsdata_satnog.csv\")"
   ]
  },
  {
   "cell_type": "markdown",
   "id": "be4897ff-1d4d-441f-840b-751657cf5683",
   "metadata": {
    "tags": []
   },
   "source": [
    "## Plotting GSaaS Map"
   ]
  },
  {
   "cell_type": "code",
   "execution_count": 121,
   "id": "f00d12dc-9e71-4479-8621-349d5740d5ae",
   "metadata": {
    "tags": []
   },
   "outputs": [],
   "source": [
    "# https://network.satnogs.org/stations/\n",
    "# Scraped, see code above\n",
    "gsdata_satnog = pd.read_csv(\"data/gsdata/gsdata_satnog.csv\")\n",
    "\n",
    "# https://www.ksat.no/ground-network-services/the-ksat-global-ground-station-network/\n",
    "# Accessed: 2023-03-08\n",
    "gsdata_ksat   = pd.read_csv(\"data/gsdata/gsdata_ksat.csv\")\n",
    "\n",
    "# https://atlasground.com/wp-content/uploads/2022/12/WEB-120522-Antenna-Network-Map.pdf\n",
    "# Accessed: 2023-03-09\n",
    "gsdata_atlas  = pd.read_csv(\"data/gsdata/gsdata_atlas.csv\")\n",
    "\n",
    "# https://leaf.space/\n",
    "# Accessed: 2023-03-09\n",
    "gsdata_leaf   = pd.read_csv(\"data/gsdata/gsdata_leaf.csv\")\n",
    "\n",
    "# Azure\n",
    "# https://azure.microsoft.com/en-us/products/orbital/"
   ]
  },
  {
   "cell_type": "code",
   "execution_count": 168,
   "id": "57cc4b00-5280-4bb1-b82a-b088bb2d85cc",
   "metadata": {
    "tags": []
   },
   "outputs": [
    {
     "data": {
      "text/html": [
       "<div>\n",
       "<style scoped>\n",
       "    .dataframe tbody tr th:only-of-type {\n",
       "        vertical-align: middle;\n",
       "    }\n",
       "\n",
       "    .dataframe tbody tr th {\n",
       "        vertical-align: top;\n",
       "    }\n",
       "\n",
       "    .dataframe thead th {\n",
       "        text-align: right;\n",
       "    }\n",
       "</style>\n",
       "<table border=\"1\" class=\"dataframe\">\n",
       "  <thead>\n",
       "    <tr style=\"text-align: right;\">\n",
       "      <th></th>\n",
       "      <th>pop_est</th>\n",
       "      <th>continent</th>\n",
       "      <th>name</th>\n",
       "      <th>iso_a3</th>\n",
       "      <th>gdp_md_est</th>\n",
       "      <th>geometry</th>\n",
       "    </tr>\n",
       "  </thead>\n",
       "  <tbody>\n",
       "    <tr>\n",
       "      <th>0</th>\n",
       "      <td>889953.0</td>\n",
       "      <td>Oceania</td>\n",
       "      <td>Fiji</td>\n",
       "      <td>FJI</td>\n",
       "      <td>5496</td>\n",
       "      <td>MULTIPOLYGON (((180.00000 -16.06713, 180.00000...</td>\n",
       "    </tr>\n",
       "    <tr>\n",
       "      <th>1</th>\n",
       "      <td>58005463.0</td>\n",
       "      <td>Africa</td>\n",
       "      <td>Tanzania</td>\n",
       "      <td>TZA</td>\n",
       "      <td>63177</td>\n",
       "      <td>POLYGON ((33.90371 -0.95000, 34.07262 -1.05982...</td>\n",
       "    </tr>\n",
       "    <tr>\n",
       "      <th>2</th>\n",
       "      <td>603253.0</td>\n",
       "      <td>Africa</td>\n",
       "      <td>W. Sahara</td>\n",
       "      <td>ESH</td>\n",
       "      <td>907</td>\n",
       "      <td>POLYGON ((-8.66559 27.65643, -8.66512 27.58948...</td>\n",
       "    </tr>\n",
       "    <tr>\n",
       "      <th>3</th>\n",
       "      <td>37589262.0</td>\n",
       "      <td>North America</td>\n",
       "      <td>Canada</td>\n",
       "      <td>CAN</td>\n",
       "      <td>1736425</td>\n",
       "      <td>MULTIPOLYGON (((-122.84000 49.00000, -122.9742...</td>\n",
       "    </tr>\n",
       "    <tr>\n",
       "      <th>4</th>\n",
       "      <td>328239523.0</td>\n",
       "      <td>North America</td>\n",
       "      <td>United States of America</td>\n",
       "      <td>USA</td>\n",
       "      <td>21433226</td>\n",
       "      <td>MULTIPOLYGON (((-122.84000 49.00000, -120.0000...</td>\n",
       "    </tr>\n",
       "    <tr>\n",
       "      <th>...</th>\n",
       "      <td>...</td>\n",
       "      <td>...</td>\n",
       "      <td>...</td>\n",
       "      <td>...</td>\n",
       "      <td>...</td>\n",
       "      <td>...</td>\n",
       "    </tr>\n",
       "    <tr>\n",
       "      <th>172</th>\n",
       "      <td>6944975.0</td>\n",
       "      <td>Europe</td>\n",
       "      <td>Serbia</td>\n",
       "      <td>SRB</td>\n",
       "      <td>51475</td>\n",
       "      <td>POLYGON ((18.82982 45.90887, 18.82984 45.90888...</td>\n",
       "    </tr>\n",
       "    <tr>\n",
       "      <th>173</th>\n",
       "      <td>622137.0</td>\n",
       "      <td>Europe</td>\n",
       "      <td>Montenegro</td>\n",
       "      <td>MNE</td>\n",
       "      <td>5542</td>\n",
       "      <td>POLYGON ((20.07070 42.58863, 19.80161 42.50009...</td>\n",
       "    </tr>\n",
       "    <tr>\n",
       "      <th>174</th>\n",
       "      <td>1794248.0</td>\n",
       "      <td>Europe</td>\n",
       "      <td>Kosovo</td>\n",
       "      <td>-99</td>\n",
       "      <td>7926</td>\n",
       "      <td>POLYGON ((20.59025 41.85541, 20.52295 42.21787...</td>\n",
       "    </tr>\n",
       "    <tr>\n",
       "      <th>175</th>\n",
       "      <td>1394973.0</td>\n",
       "      <td>North America</td>\n",
       "      <td>Trinidad and Tobago</td>\n",
       "      <td>TTO</td>\n",
       "      <td>24269</td>\n",
       "      <td>POLYGON ((-61.68000 10.76000, -61.10500 10.890...</td>\n",
       "    </tr>\n",
       "    <tr>\n",
       "      <th>176</th>\n",
       "      <td>11062113.0</td>\n",
       "      <td>Africa</td>\n",
       "      <td>S. Sudan</td>\n",
       "      <td>SSD</td>\n",
       "      <td>11998</td>\n",
       "      <td>POLYGON ((30.83385 3.50917, 29.95350 4.17370, ...</td>\n",
       "    </tr>\n",
       "  </tbody>\n",
       "</table>\n",
       "<p>177 rows × 6 columns</p>\n",
       "</div>"
      ],
      "text/plain": [
       "         pop_est      continent                      name iso_a3  gdp_md_est  \\\n",
       "0       889953.0        Oceania                      Fiji    FJI        5496   \n",
       "1     58005463.0         Africa                  Tanzania    TZA       63177   \n",
       "2       603253.0         Africa                 W. Sahara    ESH         907   \n",
       "3     37589262.0  North America                    Canada    CAN     1736425   \n",
       "4    328239523.0  North America  United States of America    USA    21433226   \n",
       "..           ...            ...                       ...    ...         ...   \n",
       "172    6944975.0         Europe                    Serbia    SRB       51475   \n",
       "173     622137.0         Europe                Montenegro    MNE        5542   \n",
       "174    1794248.0         Europe                    Kosovo    -99        7926   \n",
       "175    1394973.0  North America       Trinidad and Tobago    TTO       24269   \n",
       "176   11062113.0         Africa                  S. Sudan    SSD       11998   \n",
       "\n",
       "                                              geometry  \n",
       "0    MULTIPOLYGON (((180.00000 -16.06713, 180.00000...  \n",
       "1    POLYGON ((33.90371 -0.95000, 34.07262 -1.05982...  \n",
       "2    POLYGON ((-8.66559 27.65643, -8.66512 27.58948...  \n",
       "3    MULTIPOLYGON (((-122.84000 49.00000, -122.9742...  \n",
       "4    MULTIPOLYGON (((-122.84000 49.00000, -120.0000...  \n",
       "..                                                 ...  \n",
       "172  POLYGON ((18.82982 45.90887, 18.82984 45.90888...  \n",
       "173  POLYGON ((20.07070 42.58863, 19.80161 42.50009...  \n",
       "174  POLYGON ((20.59025 41.85541, 20.52295 42.21787...  \n",
       "175  POLYGON ((-61.68000 10.76000, -61.10500 10.890...  \n",
       "176  POLYGON ((30.83385 3.50917, 29.95350 4.17370, ...  \n",
       "\n",
       "[177 rows x 6 columns]"
      ]
     },
     "execution_count": 168,
     "metadata": {},
     "output_type": "execute_result"
    }
   ],
   "source": [
    "world = geopandas.read_file(geopandas.datasets.get_path('naturalearth_lowres'))\n",
    "world"
   ]
  },
  {
   "cell_type": "code",
   "execution_count": 225,
   "id": "0c4fb897-210f-48b1-a5da-b48c0831fbf7",
   "metadata": {
    "tags": []
   },
   "outputs": [
    {
     "data": {
      "image/png": "[encoded data removed]",
      "text/plain": [
       "<Figure size 700x300 with 1 Axes>"
      ]
     },
     "metadata": {},
     "output_type": "display_data"
    }
   ],
   "source": [
    "continents = [\"AF\", \"AS\", \"EU\", \"NA\", \"OC\", \"SA\"]\n",
    "cols = [\"#c1d5e2\", \"#ce9c7f\", \"#7598b6\", \"#6a7465\", \"#914c09\", \"#663979\", \"#fbe17b\"]\n",
    "\n",
    "world = geopandas.read_file(geopandas.datasets.get_path('naturalearth_lowres'))\n",
    "#world = world[(world.name!=\"Antarctica\")]\n",
    "\n",
    "fig, ax = plt.subplots(figsize=(7, 3), subplot_kw={'projection': ccrs.PlateCarree()})\n",
    "\n",
    "cmap = colors.ListedColormap(cols[:-2])\n",
    "world.plot(facecolor = \"lightgrey\", edgecolor=\"white\", ax=ax, linewidth=0.2)\n",
    "\n",
    "# Plotting GS points\n",
    "def plot_gsdata(gsdata_df, ax, label, marker, color, size=10):\n",
    "    latitude, longitude = gsdata_df[\"lat\"], gsdata_df[\"long\"]\n",
    "    ax.scatter(longitude, latitude,\n",
    "               sizes = [size],\n",
    "               color=color,\n",
    "               zorder = 10,\n",
    "               marker=marker,\n",
    "               linewidth = 0.6,\n",
    "               label=label)\n",
    "\n",
    "plot_gsdata(gsdata_satnog, ax, \"SatNOGS\", \"v\", \"#f7a1e2\", 4)\n",
    "plot_gsdata(gsdata_ksat, ax, \"Ksat\", \"x\", \"red\")\n",
    "plot_gsdata(gsdata_leaf, ax, \"Leaf Space\", \"^\", \"blue\")\n",
    "plot_gsdata(gsdata_atlas, ax, \"ATLAS\", \"o\", \"green\")\n",
    "\n",
    "    \n",
    "ax.set_extent([-180, 180, -90, 90], ccrs.PlateCarree())\n",
    "ax.get_xaxis().set_ticks([])\n",
    "ax.get_yaxis().set_ticks([])\n",
    "\n",
    "#plt.legend(loc = \"lower left\")\n",
    "plt.legend(loc='upper center', bbox_to_anchor=(0.5, 1.1),\n",
    "          ncol=4, fancybox=True, shadow=True)\n",
    "\n",
    "plt.axis('tight')\n",
    "plt.tight_layout()\n",
    "#plt.axis('tight')\n",
    "plt.savefig(\"figures/gs_services.pdf\", pad_inches=0)\n",
    "plt.show()"
   ]
  },
  {
   "cell_type": "markdown",
   "id": "df39b363-0f24-4d17-9564-a9e649cd08e0",
   "metadata": {},
   "source": [
    "## Plotting Starlink Gateway Map"
   ]
  },
  {
   "cell_type": "code",
   "execution_count": 224,
   "id": "848b9c72-4911-4ad8-929d-6ea6b4af9769",
   "metadata": {
    "tags": []
   },
   "outputs": [
    {
     "data": {
      "image/png": "[encoded data removed]",
      "text/plain": [
       "<Figure size 700x300 with 1 Axes>"
      ]
     },
     "metadata": {},
     "output_type": "display_data"
    }
   ],
   "source": [
    "continents = [\"AF\", \"AS\", \"EU\", \"NA\", \"OC\", \"SA\"]\n",
    "cols = [\"#c1d5e2\", \"#ce9c7f\", \"#7598b6\", \"#6a7465\", \"#914c09\", \"#663979\", \"#fbe17b\"]\n",
    "\n",
    "world = geopandas.read_file(geopandas.datasets.get_path('naturalearth_lowres'))\n",
    "#world = world[(world.name!=\"Antarctica\")]\n",
    "\n",
    "fig, ax = plt.subplots(figsize=(7, 3), subplot_kw={'projection': ccrs.PlateCarree()})\n",
    "\n",
    "cmap = colors.ListedColormap(cols[:-2])\n",
    "world.plot(facecolor = \"lightgrey\", edgecolor=\"white\", ax=ax, linewidth=0.2)\n",
    "\n",
    "# Plot Country Patches where a Starlink is available\n",
    "def plotCountryPatch( axes, country_name, fcolor ):\n",
    "    # plot a country on the provided axes\n",
    "    nami = world[world.name == country_name]\n",
    "    namigm = nami.__geo_interface__['features']  # geopandas's geo_interface\n",
    "    namig0 = {'type': namigm[0]['geometry']['type'], \\\n",
    "              'coordinates': namigm[0]['geometry']['coordinates']}\n",
    "    axes.add_patch(PolygonPatch( namig0, fc=fcolor, ec=\"black\", alpha=0.4, zorder=2, linewidth=0.0 ))\n",
    "for c in countries:\n",
    "    c = \"United States of America\" if c == \"United States\" else c\n",
    "    \n",
    "    if(c in world[\"name\"].values):\n",
    "        plotCountryPatch(ax, c, cols[2])\n",
    "\n",
    "# Plotting GS points\n",
    "def plot_gsdata(gsdata_df, ax, label, marker, color, size=10):\n",
    "    latitude, longitude = gsdata_df[\"lat\"], gsdata_df[\"long\"]\n",
    "    ax.scatter(longitude, latitude,\n",
    "               sizes = [size],\n",
    "               color=color,\n",
    "               zorder = 10,\n",
    "               marker=marker,\n",
    "               linewidth = 0.6,\n",
    "               label=label)\n",
    "    \n",
    "#plot_gsdata(gsdata_satnog, ax, \"SatNOGS\", \"v\", \"#f7a1e2\", 4)\n",
    "plot_gsdata(slgs_df[(slgs_df[\"srctype\"] == \"filing\") | (slgs_df[\"srctype\"] == \"filing2\")],\n",
    "            ax, \"traceable to official public document\", \"x\", \"red\", size=2)\n",
    "#plot_gsdata(slgs_df[slgs_df[\"srctype\"] == \"filing2\"],\n",
    "#            ax, \"Ksat\", \"x\", \"blue\", size=2)\n",
    "plot_gsdata(slgs_df[slgs_df[\"srctype\"] == \"crowdsourced\"],\n",
    "            ax, \"Crowd sourced\", \"o\", \"green\", size=2)\n",
    "#plot_gsdata(gsdata_leaf, ax, \"Leaf Space\", \"^\", \"blue\")\n",
    "#plot_gsdata(gsdata_atlas, ax, \"ATLAS\", \"o\", \"green\")\n",
    "\n",
    "\n",
    "    \n",
    "ax.set_extent([-180, 180, -90, 90], ccrs.PlateCarree())\n",
    "ax.get_xaxis().set_ticks([])\n",
    "ax.get_yaxis().set_ticks([])\n",
    "\n",
    "#plt.legend(loc = \"lower left\")\n",
    "plt.legend(loc='upper center', bbox_to_anchor=(0.5, 1.1),\n",
    "          ncol=4, fancybox=True, shadow=True)\n",
    "\n",
    "plt.axis('tight')\n",
    "plt.tight_layout()\n",
    "plt.savefig(\"figures/starlink_gws.pdf\", pad_inches=0)\n",
    "plt.show()"
   ]
  },
  {
   "cell_type": "code",
   "execution_count": null,
   "id": "f0668564-8901-4414-929e-4f388e8e63a1",
   "metadata": {},
   "outputs": [],
   "source": []
  }
 ],
 "metadata": {
  "kernelspec": {
   "display_name": "Python 3 (ipykernel)",
   "language": "python",
   "name": "python3"
  },
  "language_info": {
   "codemirror_mode": {
    "name": "ipython",
    "version": 3
   },
   "file_extension": ".py",
   "mimetype": "text/x-python",
   "name": "python",
   "nbconvert_exporter": "python",
   "pygments_lexer": "ipython3",
   "version": "3.10.6"
  }
 },
 "nbformat": 4,
 "nbformat_minor": 5
}
