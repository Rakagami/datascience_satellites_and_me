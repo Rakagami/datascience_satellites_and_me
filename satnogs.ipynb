{
 "cells": [
  {
   "cell_type": "markdown",
   "id": "884d6154-de2f-402c-b86b-897761ec1d96",
   "metadata": {},
   "source": [
    "# SatNOGS DB API\n",
    "\n",
    "https://db.satnogs.org/api/schema/docs/\n",
    "\n",
    "https://db.satnogs.org/api\n",
    "\n",
    "- `artifacts`\n",
    "- `modes`\n",
    "- `satellites`\n",
    "- `transmitters`\n",
    "- `telemetry`\n",
    "- `tle`"
   ]
  },
  {
   "cell_type": "code",
   "execution_count": 1,
   "id": "7e3c0d9b-4e6f-47f4-aac0-f0e4eef3dde3",
   "metadata": {},
   "outputs": [],
   "source": [
    "import requests"
   ]
  },
  {
   "cell_type": "code",
   "execution_count": 12,
   "id": "775bd8bf-e9e5-49ef-8b05-879b25c8dfbd",
   "metadata": {
    "collapsed": true,
    "jupyter": {
     "outputs_hidden": true
    },
    "tags": []
   },
   "outputs": [
    {
     "data": {
      "text/plain": [
       "{'uuid': 'UzPz4gcsNBPKPKAFPmer7g',\n",
       " 'description': 'Upper side band (drifting)',\n",
       " 'alive': True,\n",
       " 'type': 'Transmitter',\n",
       " 'uplink_low': None,\n",
       " 'uplink_high': None,\n",
       " 'uplink_drift': None,\n",
       " 'downlink_low': 136658500,\n",
       " 'downlink_high': None,\n",
       " 'downlink_drift': None,\n",
       " 'mode': 'USB',\n",
       " 'mode_id': 9,\n",
       " 'uplink_mode': None,\n",
       " 'invert': False,\n",
       " 'baud': None,\n",
       " 'sat_id': 'SCHX-0895-2361-9925-0309',\n",
       " 'norad_cat_id': 965,\n",
       " 'norad_follow_id': None,\n",
       " 'status': 'active',\n",
       " 'updated': '2019-04-18T05:39:53.343316Z',\n",
       " 'citation': 'CITATION NEEDED - https://xkcd.com/285/',\n",
       " 'service': 'Unknown',\n",
       " 'iaru_coordination': 'N/A',\n",
       " 'iaru_coordination_url': '',\n",
       " 'itu_notification': {'urls': []},\n",
       " 'frequency_violation': False}"
      ]
     },
     "execution_count": 12,
     "metadata": {},
     "output_type": "execute_result"
    }
   ],
   "source": [
    "# Transmtters\n",
    "response = requests.get(\"https://db.satnogs.org/api/transmitters/\")\n",
    "a = response.json()\n",
    "a[0]"
   ]
  },
  {
   "cell_type": "code",
   "execution_count": 14,
   "id": "8c3461be-f83a-4dd5-b24b-aa7dce791fee",
   "metadata": {},
   "outputs": [
    {
     "data": {
      "text/plain": [
       "{'detail': 'Authentication credentials were not provided.'}"
      ]
     },
     "execution_count": 14,
     "metadata": {},
     "output_type": "execute_result"
    }
   ],
   "source": [
    "# Telemetry\n",
    "# API Key Required\n",
    "response = requests.get(\"https://db.satnogs.org/api/telemetry/\")\n",
    "a = response.json()\n",
    "a"
   ]
  },
  {
   "cell_type": "code",
   "execution_count": 18,
   "id": "6bc32791-2cf6-4c3e-b2e5-dda95320c603",
   "metadata": {},
   "outputs": [
    {
     "data": {
      "text/plain": [
       "{'sat_id': 'SCHX-0895-2361-9925-0309',\n",
       " 'norad_cat_id': 965,\n",
       " 'norad_follow_id': None,\n",
       " 'name': 'TRANSIT 5B-5',\n",
       " 'names': 'OPS 6582',\n",
       " 'image': 'satellites/transit-o__1.jpg',\n",
       " 'status': 'alive',\n",
       " 'decayed': None,\n",
       " 'launched': '1964-12-13T00:00:00Z',\n",
       " 'deployed': None,\n",
       " 'website': '',\n",
       " 'operator': 'None',\n",
       " 'countries': 'US',\n",
       " 'telemetries': [],\n",
       " 'updated': '2022-08-01T06:47:53.992153Z',\n",
       " 'citation': 'https://github.com/happysat/Deadsat#1',\n",
       " 'is_frequency_violator': False,\n",
       " 'associated_satellites': []}"
      ]
     },
     "execution_count": 18,
     "metadata": {},
     "output_type": "execute_result"
    }
   ],
   "source": [
    "# Satellite\n",
    "response = requests.get(\"https://db.satnogs.org/api/satellites/\")\n",
    "a = response.json()\n",
    "a[0]"
   ]
  },
  {
   "cell_type": "markdown",
   "id": "c75b9acd-33fe-49a1-be68-8173dce34978",
   "metadata": {},
   "source": [
    "# SatNOGS Groundstation Network"
   ]
  },
  {
   "cell_type": "code",
   "execution_count": null,
   "id": "91b701de-a1c1-428b-ac43-bfb8ee195c0e",
   "metadata": {},
   "outputs": [],
   "source": [
    "# Ground Stations Network\n",
    "# Scraping\n",
    "response = requests.get(\"https://db.satnogs\")"
   ]
  }
 ],
 "metadata": {
  "kernelspec": {
   "display_name": "Python 3 (ipykernel)",
   "language": "python",
   "name": "python3"
  },
  "language_info": {
   "codemirror_mode": {
    "name": "ipython",
    "version": 3
   },
   "file_extension": ".py",
   "mimetype": "text/x-python",
   "name": "python",
   "nbconvert_exporter": "python",
   "pygments_lexer": "ipython3",
   "version": "3.10.9"
  }
 },
 "nbformat": 4,
 "nbformat_minor": 5
}
