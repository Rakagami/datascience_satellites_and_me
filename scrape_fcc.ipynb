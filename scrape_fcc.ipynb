{
 "cells": [
  {
   "cell_type": "markdown",
   "id": "0757c1ad-3158-4def-a262-7bce5ff2ecdb",
   "metadata": {},
   "source": [
    "# FCC Report Scraping Tool\n",
    "\n",
    "I want the following tables\n",
    "\n",
    "```\n",
    "Businesses\n",
    "\n",
    "ID - Name - File Count - First Document Last Mod - Last Document Last Mod\n",
    "```\n",
    "\n",
    "```\n",
    "Files\n",
    "\n",
    "ID - File Number - Date Filed Last Mod - Applicant - Callsign - Subject Type - File Type - Business ID\n",
    "```"
   ]
  },
  {
   "cell_type": "code",
   "execution_count": 71,
   "id": "17c14d4c-7708-4f83-85ad-e3b71ce351b3",
   "metadata": {},
   "outputs": [],
   "source": [
    "import sqlite3\n",
    "from bs4 import BeautifulSoup\n",
    "import requests\n",
    "from tqdm import tqdm"
   ]
  },
  {
   "cell_type": "code",
   "execution_count": 88,
   "id": "1354cad0-3dc4-4ac0-915e-b1a1237c1c93",
   "metadata": {},
   "outputs": [],
   "source": [
    "con = sqlite3.connect(\"fccreport.db\")"
   ]
  },
  {
   "cell_type": "code",
   "execution_count": 89,
   "id": "ee9d6e8e-4b22-43e3-876b-f8fd10a135cf",
   "metadata": {},
   "outputs": [
    {
     "data": {
      "text/plain": [
       "<sqlite3.Cursor at 0x7f0846f1cfc0>"
      ]
     },
     "execution_count": 89,
     "metadata": {},
     "output_type": "execute_result"
    }
   ],
   "source": [
    "cur = con.cursor()\n",
    "cur.execute(\"DROP TABLE businesses\")\n",
    "cur.execute(\"DROP TABLE files\")\n",
    "cur.execute(\"CREATE TABLE businesses(id, name, file_count, first_document_last_mod, last_document_last_mod)\")\n",
    "cur.execute(\"CREATE TABLE files(file_id, file_url, document_last_mod, applicant_id, callsign, subject_type, file_type)\")"
   ]
  },
  {
   "cell_type": "code",
   "execution_count": 125,
   "id": "d5e84ac8-6992-48ca-8a55-d2d2bb90dd8c",
   "metadata": {},
   "outputs": [],
   "source": [
    "def get_file_page(idx, suffix, cur):\n",
    "    base_url    = \"https://fcc.report\"\n",
    "    url = base_url + suffix\n",
    "    \n",
    "    #print(\"Fetching {}...\".format(suffix), end=\"\")\n",
    "    response = requests.get(url)\n",
    "    if(response.status_code == 200):\n",
    "        #print(\"OK!\")\n",
    "        pass\n",
    "    else:\n",
    "        print(\"Error, Skipping!\")\n",
    "        return \"-\", \"-\"\n",
    "    soup = BeautifulSoup(response.text, \"html.parser\")\n",
    "    \n",
    "    first_date = None\n",
    "    last_date  = None\n",
    "    \n",
    "    for row in soup.find_all(\"tr\")[1:]:\n",
    "        cols = row.find_all(\"td\")\n",
    "        # Date\n",
    "        dflm    = cols[0].text\n",
    "        if(first_date == None):\n",
    "            first_date = dflm\n",
    "        last_date = dflm\n",
    "\n",
    "        # ID\n",
    "        #print(cols[1].text)\n",
    "        id_text = cols[1].text\n",
    "        file_id = id_text.split(\" \")[1].strip() if \"IBFS\" in id_text else id_text\n",
    "        file_url = base_url + cols[1].find(\"a\")[\"href\"]\n",
    "\n",
    "        # Applicant\n",
    "        applicant_id = idx\n",
    "\n",
    "        # Callsign\n",
    "        callsign = cols[3].text\n",
    "\n",
    "        # Subject Type\n",
    "        type_name = cols[4].text\n",
    "        subject_type = type_name.split(\":\")[0].strip()\n",
    "        file_type    = type_name.split(\":\")[-1].strip()\n",
    "\n",
    "        #print(dflm, file_id, file_url, applicant_id, callsign, subject_type, file_type)\n",
    "        # TODO: sqlite connection\n",
    "        cur.execute(\"INSERT INTO files VALUES ('{}', '{}', '{}', '{}', '{}', '{}', '{}')\".format(\n",
    "            file_id, file_url, dflm, applicant_id, callsign, subject_type, file_type\n",
    "            \n",
    "        ))\n",
    "    \n",
    "    return first_date, last_date\n",
    "\n",
    "def get_business_page(cur):\n",
    "    base_url    = \"https://fcc.report\"\n",
    "    list_suffix = \"/IBFS/Business-List/\"\n",
    "    url = base_url + list_suffix\n",
    "    response = requests.get(url)\n",
    "    soup = BeautifulSoup(response.text, \"html.parser\")\n",
    "    \n",
    "    rows = soup.find_all(\"tr\")[1:]\n",
    "    total_len = len(rows)\n",
    "    print(\"Going through\", len(rows), \"...\")\n",
    "    \n",
    "    for idx, row in tqdm(enumerate(rows), total=total_len):\n",
    "        #print(row)\n",
    "        \n",
    "        cols = row.find_all(\"td\")\n",
    "        company_name  = cols[0].text\n",
    "        company_suffix = row.find(\"a\")[\"href\"]\n",
    "        file_counts   = cols[1].text\n",
    "        \n",
    "        first_date, last_date = get_file_page(idx, company_suffix, cur)\n",
    "        \n",
    "        cur.execute(\"INSERT INTO businesses VALUES ('{}', '{}', '{}', '{}', '{}')\".format(\n",
    "            idx, company_name, file_counts, first_date, last_date\n",
    "        ))\n",
    "    print(\"DONE!\")\n",
    "    return soup"
   ]
  },
  {
   "cell_type": "code",
   "execution_count": 128,
   "id": "f01c25c0-1709-4396-91da-a28626cc1942",
   "metadata": {
    "tags": []
   },
   "outputs": [
    {
     "name": "stdout",
     "output_type": "stream",
     "text": [
      "Going through 5000 ...\n"
     ]
    },
    {
     "name": "stderr",
     "output_type": "stream",
     "text": [
      "100%|█████████████████████████████████████████████████████████████████| 5000/5000 [36:38<00:00,  2.27it/s]"
     ]
    },
    {
     "name": "stdout",
     "output_type": "stream",
     "text": [
      "DONE!\n"
     ]
    },
    {
     "name": "stderr",
     "output_type": "stream",
     "text": [
      "\n"
     ]
    }
   ],
   "source": [
    "s = get_business_page(cur)"
   ]
  },
  {
   "cell_type": "code",
   "execution_count": 129,
   "id": "c7716165-f3aa-4bdf-90df-6f0efbf7bf3d",
   "metadata": {},
   "outputs": [],
   "source": [
    "con.commit()"
   ]
  },
  {
   "cell_type": "code",
   "execution_count": null,
   "id": "8282756d-6b15-4bd1-afd7-95dfd9f271ee",
   "metadata": {},
   "outputs": [],
   "source": []
  }
 ],
 "metadata": {
  "kernelspec": {
   "display_name": "Python 3 (ipykernel)",
   "language": "python",
   "name": "python3"
  },
  "language_info": {
   "codemirror_mode": {
    "name": "ipython",
    "version": 3
   },
   "file_extension": ".py",
   "mimetype": "text/x-python",
   "name": "python",
   "nbconvert_exporter": "python",
   "pygments_lexer": "ipython3",
   "version": "3.10.9"
  }
 },
 "nbformat": 4,
 "nbformat_minor": 5
}
